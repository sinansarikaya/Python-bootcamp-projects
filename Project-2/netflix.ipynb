{
  "nbformat": 4,
  "nbformat_minor": 0,
  "metadata": {
    "colab": {
      "name": "netflix.ipynb",
      "provenance": [],
      "collapsed_sections": []
    },
    "kernelspec": {
      "name": "python3",
      "display_name": "Python 3"
    },
    "language_info": {
      "name": "python"
    }
  },
  "cells": [
    {
      "cell_type": "code",
      "execution_count": 1,
      "metadata": {
        "id": "AqMvYuqywpcc"
      },
      "outputs": [],
      "source": [
        "import pandas as pd\n",
        "import numpy as np\n",
        "import seaborn as sns\n",
        "import datetime as dt\n",
        "import matplotlib.pyplot as plt"
      ]
    },
    {
      "cell_type": "code",
      "source": [
        "sns.set(rc={'figure.figsize':(13,9)})"
      ],
      "metadata": {
        "id": "EI6R_n5vTSEG"
      },
      "execution_count": 2,
      "outputs": []
    },
    {
      "cell_type": "code",
      "source": [
        "path = \"NetflixOriginals.xls\"\n",
        "dat = pd.read_csv(path)\n",
        "dat[\"Premiere\"]= pd.to_datetime(dat[\"Premiere\"])\n",
        "dat"
      ],
      "metadata": {
        "colab": {
          "base_uri": "https://localhost:8080/",
          "height": 424
        },
        "id": "rahHsxi06T6t",
        "outputId": "aaa96c2a-1df2-4184-d78e-8fb4ff6a1fd7"
      },
      "execution_count": 4,
      "outputs": [
        {
          "output_type": "execute_result",
          "data": {
            "text/plain": [
              "                                           Title                  Genre  \\\n",
              "0                                Enter the Anime            Documentary   \n",
              "1                                    Dark Forces               Thriller   \n",
              "2                                        The App  Science fiction/Drama   \n",
              "3                                 The Open House        Horror thriller   \n",
              "4                                    Kaali Khuhi                Mystery   \n",
              "..                                           ...                    ...   \n",
              "579        Taylor Swift: Reputation Stadium Tour           Concert Film   \n",
              "580  Winter on Fire: Ukraine's Fight for Freedom            Documentary   \n",
              "581                      Springsteen on Broadway           One-man show   \n",
              "582    Emicida: AmarElo - It's All For Yesterday            Documentary   \n",
              "583     David Attenborough: A Life on Our Planet            Documentary   \n",
              "\n",
              "      Premiere  Runtime  IMDB Score                  Language  \n",
              "0   2019-08-05       58         2.5          English/Japanese  \n",
              "1   2020-08-21       81         2.6                   Spanish  \n",
              "2   2019-12-26       79         2.6                   Italian  \n",
              "3   2018-01-19       94         3.2                   English  \n",
              "4   2020-10-30       90         3.4                     Hindi  \n",
              "..         ...      ...         ...                       ...  \n",
              "579 2018-12-31      125         8.4                   English  \n",
              "580 2015-10-09       91         8.4  English/Ukranian/Russian  \n",
              "581 2018-12-16      153         8.5                   English  \n",
              "582 2020-12-08       89         8.6                Portuguese  \n",
              "583 2020-10-04       83         9.0                   English  \n",
              "\n",
              "[584 rows x 6 columns]"
            ],
            "text/html": [
              "\n",
              "  <div id=\"df-bf96f905-4f29-4eac-907e-b7bfb7954188\">\n",
              "    <div class=\"colab-df-container\">\n",
              "      <div>\n",
              "<style scoped>\n",
              "    .dataframe tbody tr th:only-of-type {\n",
              "        vertical-align: middle;\n",
              "    }\n",
              "\n",
              "    .dataframe tbody tr th {\n",
              "        vertical-align: top;\n",
              "    }\n",
              "\n",
              "    .dataframe thead th {\n",
              "        text-align: right;\n",
              "    }\n",
              "</style>\n",
              "<table border=\"1\" class=\"dataframe\">\n",
              "  <thead>\n",
              "    <tr style=\"text-align: right;\">\n",
              "      <th></th>\n",
              "      <th>Title</th>\n",
              "      <th>Genre</th>\n",
              "      <th>Premiere</th>\n",
              "      <th>Runtime</th>\n",
              "      <th>IMDB Score</th>\n",
              "      <th>Language</th>\n",
              "    </tr>\n",
              "  </thead>\n",
              "  <tbody>\n",
              "    <tr>\n",
              "      <th>0</th>\n",
              "      <td>Enter the Anime</td>\n",
              "      <td>Documentary</td>\n",
              "      <td>2019-08-05</td>\n",
              "      <td>58</td>\n",
              "      <td>2.5</td>\n",
              "      <td>English/Japanese</td>\n",
              "    </tr>\n",
              "    <tr>\n",
              "      <th>1</th>\n",
              "      <td>Dark Forces</td>\n",
              "      <td>Thriller</td>\n",
              "      <td>2020-08-21</td>\n",
              "      <td>81</td>\n",
              "      <td>2.6</td>\n",
              "      <td>Spanish</td>\n",
              "    </tr>\n",
              "    <tr>\n",
              "      <th>2</th>\n",
              "      <td>The App</td>\n",
              "      <td>Science fiction/Drama</td>\n",
              "      <td>2019-12-26</td>\n",
              "      <td>79</td>\n",
              "      <td>2.6</td>\n",
              "      <td>Italian</td>\n",
              "    </tr>\n",
              "    <tr>\n",
              "      <th>3</th>\n",
              "      <td>The Open House</td>\n",
              "      <td>Horror thriller</td>\n",
              "      <td>2018-01-19</td>\n",
              "      <td>94</td>\n",
              "      <td>3.2</td>\n",
              "      <td>English</td>\n",
              "    </tr>\n",
              "    <tr>\n",
              "      <th>4</th>\n",
              "      <td>Kaali Khuhi</td>\n",
              "      <td>Mystery</td>\n",
              "      <td>2020-10-30</td>\n",
              "      <td>90</td>\n",
              "      <td>3.4</td>\n",
              "      <td>Hindi</td>\n",
              "    </tr>\n",
              "    <tr>\n",
              "      <th>...</th>\n",
              "      <td>...</td>\n",
              "      <td>...</td>\n",
              "      <td>...</td>\n",
              "      <td>...</td>\n",
              "      <td>...</td>\n",
              "      <td>...</td>\n",
              "    </tr>\n",
              "    <tr>\n",
              "      <th>579</th>\n",
              "      <td>Taylor Swift: Reputation Stadium Tour</td>\n",
              "      <td>Concert Film</td>\n",
              "      <td>2018-12-31</td>\n",
              "      <td>125</td>\n",
              "      <td>8.4</td>\n",
              "      <td>English</td>\n",
              "    </tr>\n",
              "    <tr>\n",
              "      <th>580</th>\n",
              "      <td>Winter on Fire: Ukraine's Fight for Freedom</td>\n",
              "      <td>Documentary</td>\n",
              "      <td>2015-10-09</td>\n",
              "      <td>91</td>\n",
              "      <td>8.4</td>\n",
              "      <td>English/Ukranian/Russian</td>\n",
              "    </tr>\n",
              "    <tr>\n",
              "      <th>581</th>\n",
              "      <td>Springsteen on Broadway</td>\n",
              "      <td>One-man show</td>\n",
              "      <td>2018-12-16</td>\n",
              "      <td>153</td>\n",
              "      <td>8.5</td>\n",
              "      <td>English</td>\n",
              "    </tr>\n",
              "    <tr>\n",
              "      <th>582</th>\n",
              "      <td>Emicida: AmarElo - It's All For Yesterday</td>\n",
              "      <td>Documentary</td>\n",
              "      <td>2020-12-08</td>\n",
              "      <td>89</td>\n",
              "      <td>8.6</td>\n",
              "      <td>Portuguese</td>\n",
              "    </tr>\n",
              "    <tr>\n",
              "      <th>583</th>\n",
              "      <td>David Attenborough: A Life on Our Planet</td>\n",
              "      <td>Documentary</td>\n",
              "      <td>2020-10-04</td>\n",
              "      <td>83</td>\n",
              "      <td>9.0</td>\n",
              "      <td>English</td>\n",
              "    </tr>\n",
              "  </tbody>\n",
              "</table>\n",
              "<p>584 rows × 6 columns</p>\n",
              "</div>\n",
              "      <button class=\"colab-df-convert\" onclick=\"convertToInteractive('df-bf96f905-4f29-4eac-907e-b7bfb7954188')\"\n",
              "              title=\"Convert this dataframe to an interactive table.\"\n",
              "              style=\"display:none;\">\n",
              "        \n",
              "  <svg xmlns=\"http://www.w3.org/2000/svg\" height=\"24px\"viewBox=\"0 0 24 24\"\n",
              "       width=\"24px\">\n",
              "    <path d=\"M0 0h24v24H0V0z\" fill=\"none\"/>\n",
              "    <path d=\"M18.56 5.44l.94 2.06.94-2.06 2.06-.94-2.06-.94-.94-2.06-.94 2.06-2.06.94zm-11 1L8.5 8.5l.94-2.06 2.06-.94-2.06-.94L8.5 2.5l-.94 2.06-2.06.94zm10 10l.94 2.06.94-2.06 2.06-.94-2.06-.94-.94-2.06-.94 2.06-2.06.94z\"/><path d=\"M17.41 7.96l-1.37-1.37c-.4-.4-.92-.59-1.43-.59-.52 0-1.04.2-1.43.59L10.3 9.45l-7.72 7.72c-.78.78-.78 2.05 0 2.83L4 21.41c.39.39.9.59 1.41.59.51 0 1.02-.2 1.41-.59l7.78-7.78 2.81-2.81c.8-.78.8-2.07 0-2.86zM5.41 20L4 18.59l7.72-7.72 1.47 1.35L5.41 20z\"/>\n",
              "  </svg>\n",
              "      </button>\n",
              "      \n",
              "  <style>\n",
              "    .colab-df-container {\n",
              "      display:flex;\n",
              "      flex-wrap:wrap;\n",
              "      gap: 12px;\n",
              "    }\n",
              "\n",
              "    .colab-df-convert {\n",
              "      background-color: #E8F0FE;\n",
              "      border: none;\n",
              "      border-radius: 50%;\n",
              "      cursor: pointer;\n",
              "      display: none;\n",
              "      fill: #1967D2;\n",
              "      height: 32px;\n",
              "      padding: 0 0 0 0;\n",
              "      width: 32px;\n",
              "    }\n",
              "\n",
              "    .colab-df-convert:hover {\n",
              "      background-color: #E2EBFA;\n",
              "      box-shadow: 0px 1px 2px rgba(60, 64, 67, 0.3), 0px 1px 3px 1px rgba(60, 64, 67, 0.15);\n",
              "      fill: #174EA6;\n",
              "    }\n",
              "\n",
              "    [theme=dark] .colab-df-convert {\n",
              "      background-color: #3B4455;\n",
              "      fill: #D2E3FC;\n",
              "    }\n",
              "\n",
              "    [theme=dark] .colab-df-convert:hover {\n",
              "      background-color: #434B5C;\n",
              "      box-shadow: 0px 1px 3px 1px rgba(0, 0, 0, 0.15);\n",
              "      filter: drop-shadow(0px 1px 2px rgba(0, 0, 0, 0.3));\n",
              "      fill: #FFFFFF;\n",
              "    }\n",
              "  </style>\n",
              "\n",
              "      <script>\n",
              "        const buttonEl =\n",
              "          document.querySelector('#df-bf96f905-4f29-4eac-907e-b7bfb7954188 button.colab-df-convert');\n",
              "        buttonEl.style.display =\n",
              "          google.colab.kernel.accessAllowed ? 'block' : 'none';\n",
              "\n",
              "        async function convertToInteractive(key) {\n",
              "          const element = document.querySelector('#df-bf96f905-4f29-4eac-907e-b7bfb7954188');\n",
              "          const dataTable =\n",
              "            await google.colab.kernel.invokeFunction('convertToInteractive',\n",
              "                                                     [key], {});\n",
              "          if (!dataTable) return;\n",
              "\n",
              "          const docLinkHtml = 'Like what you see? Visit the ' +\n",
              "            '<a target=\"_blank\" href=https://colab.research.google.com/notebooks/data_table.ipynb>data table notebook</a>'\n",
              "            + ' to learn more about interactive tables.';\n",
              "          element.innerHTML = '';\n",
              "          dataTable['output_type'] = 'display_data';\n",
              "          await google.colab.output.renderOutput(dataTable, element);\n",
              "          const docLink = document.createElement('div');\n",
              "          docLink.innerHTML = docLinkHtml;\n",
              "          element.appendChild(docLink);\n",
              "        }\n",
              "      </script>\n",
              "    </div>\n",
              "  </div>\n",
              "  "
            ]
          },
          "metadata": {},
          "execution_count": 4
        }
      ]
    },
    {
      "cell_type": "code",
      "source": [
        "df = dat # creating a backup"
      ],
      "metadata": {
        "id": "az3VvouxFlIe"
      },
      "execution_count": 8,
      "outputs": []
    },
    {
      "cell_type": "code",
      "source": [
        "dat.info()"
      ],
      "metadata": {
        "colab": {
          "base_uri": "https://localhost:8080/"
        },
        "id": "MzlKJIJHZNor",
        "outputId": "dfbecd8c-7b13-4a62-c10b-cb3c281ab55e"
      },
      "execution_count": 9,
      "outputs": [
        {
          "output_type": "stream",
          "name": "stdout",
          "text": [
            "<class 'pandas.core.frame.DataFrame'>\n",
            "RangeIndex: 584 entries, 0 to 583\n",
            "Data columns (total 6 columns):\n",
            " #   Column      Non-Null Count  Dtype         \n",
            "---  ------      --------------  -----         \n",
            " 0   Title       584 non-null    object        \n",
            " 1   Genre       584 non-null    object        \n",
            " 2   Premiere    584 non-null    datetime64[ns]\n",
            " 3   Runtime     584 non-null    int64         \n",
            " 4   IMDB Score  584 non-null    float64       \n",
            " 5   Language    584 non-null    object        \n",
            "dtypes: datetime64[ns](1), float64(1), int64(1), object(3)\n",
            "memory usage: 27.5+ KB\n"
          ]
        }
      ]
    },
    {
      "cell_type": "code",
      "source": [
        "dat.describe().T"
      ],
      "metadata": {
        "colab": {
          "base_uri": "https://localhost:8080/",
          "height": 112
        },
        "id": "UXdhzf0npBuF",
        "outputId": "79e23830-db44-4a12-8592-76d64552b1a5"
      },
      "execution_count": 10,
      "outputs": [
        {
          "output_type": "execute_result",
          "data": {
            "text/plain": [
              "            count       mean        std  min   25%    50%    75%    max\n",
              "Runtime     584.0  93.577055  27.761683  4.0  86.0  97.00  108.0  209.0\n",
              "IMDB Score  584.0   6.271747   0.979256  2.5   5.7   6.35    7.0    9.0"
            ],
            "text/html": [
              "\n",
              "  <div id=\"df-2cbeff44-d82f-4109-bea5-b5ee4923d3d6\">\n",
              "    <div class=\"colab-df-container\">\n",
              "      <div>\n",
              "<style scoped>\n",
              "    .dataframe tbody tr th:only-of-type {\n",
              "        vertical-align: middle;\n",
              "    }\n",
              "\n",
              "    .dataframe tbody tr th {\n",
              "        vertical-align: top;\n",
              "    }\n",
              "\n",
              "    .dataframe thead th {\n",
              "        text-align: right;\n",
              "    }\n",
              "</style>\n",
              "<table border=\"1\" class=\"dataframe\">\n",
              "  <thead>\n",
              "    <tr style=\"text-align: right;\">\n",
              "      <th></th>\n",
              "      <th>count</th>\n",
              "      <th>mean</th>\n",
              "      <th>std</th>\n",
              "      <th>min</th>\n",
              "      <th>25%</th>\n",
              "      <th>50%</th>\n",
              "      <th>75%</th>\n",
              "      <th>max</th>\n",
              "    </tr>\n",
              "  </thead>\n",
              "  <tbody>\n",
              "    <tr>\n",
              "      <th>Runtime</th>\n",
              "      <td>584.0</td>\n",
              "      <td>93.577055</td>\n",
              "      <td>27.761683</td>\n",
              "      <td>4.0</td>\n",
              "      <td>86.0</td>\n",
              "      <td>97.00</td>\n",
              "      <td>108.0</td>\n",
              "      <td>209.0</td>\n",
              "    </tr>\n",
              "    <tr>\n",
              "      <th>IMDB Score</th>\n",
              "      <td>584.0</td>\n",
              "      <td>6.271747</td>\n",
              "      <td>0.979256</td>\n",
              "      <td>2.5</td>\n",
              "      <td>5.7</td>\n",
              "      <td>6.35</td>\n",
              "      <td>7.0</td>\n",
              "      <td>9.0</td>\n",
              "    </tr>\n",
              "  </tbody>\n",
              "</table>\n",
              "</div>\n",
              "      <button class=\"colab-df-convert\" onclick=\"convertToInteractive('df-2cbeff44-d82f-4109-bea5-b5ee4923d3d6')\"\n",
              "              title=\"Convert this dataframe to an interactive table.\"\n",
              "              style=\"display:none;\">\n",
              "        \n",
              "  <svg xmlns=\"http://www.w3.org/2000/svg\" height=\"24px\"viewBox=\"0 0 24 24\"\n",
              "       width=\"24px\">\n",
              "    <path d=\"M0 0h24v24H0V0z\" fill=\"none\"/>\n",
              "    <path d=\"M18.56 5.44l.94 2.06.94-2.06 2.06-.94-2.06-.94-.94-2.06-.94 2.06-2.06.94zm-11 1L8.5 8.5l.94-2.06 2.06-.94-2.06-.94L8.5 2.5l-.94 2.06-2.06.94zm10 10l.94 2.06.94-2.06 2.06-.94-2.06-.94-.94-2.06-.94 2.06-2.06.94z\"/><path d=\"M17.41 7.96l-1.37-1.37c-.4-.4-.92-.59-1.43-.59-.52 0-1.04.2-1.43.59L10.3 9.45l-7.72 7.72c-.78.78-.78 2.05 0 2.83L4 21.41c.39.39.9.59 1.41.59.51 0 1.02-.2 1.41-.59l7.78-7.78 2.81-2.81c.8-.78.8-2.07 0-2.86zM5.41 20L4 18.59l7.72-7.72 1.47 1.35L5.41 20z\"/>\n",
              "  </svg>\n",
              "      </button>\n",
              "      \n",
              "  <style>\n",
              "    .colab-df-container {\n",
              "      display:flex;\n",
              "      flex-wrap:wrap;\n",
              "      gap: 12px;\n",
              "    }\n",
              "\n",
              "    .colab-df-convert {\n",
              "      background-color: #E8F0FE;\n",
              "      border: none;\n",
              "      border-radius: 50%;\n",
              "      cursor: pointer;\n",
              "      display: none;\n",
              "      fill: #1967D2;\n",
              "      height: 32px;\n",
              "      padding: 0 0 0 0;\n",
              "      width: 32px;\n",
              "    }\n",
              "\n",
              "    .colab-df-convert:hover {\n",
              "      background-color: #E2EBFA;\n",
              "      box-shadow: 0px 1px 2px rgba(60, 64, 67, 0.3), 0px 1px 3px 1px rgba(60, 64, 67, 0.15);\n",
              "      fill: #174EA6;\n",
              "    }\n",
              "\n",
              "    [theme=dark] .colab-df-convert {\n",
              "      background-color: #3B4455;\n",
              "      fill: #D2E3FC;\n",
              "    }\n",
              "\n",
              "    [theme=dark] .colab-df-convert:hover {\n",
              "      background-color: #434B5C;\n",
              "      box-shadow: 0px 1px 3px 1px rgba(0, 0, 0, 0.15);\n",
              "      filter: drop-shadow(0px 1px 2px rgba(0, 0, 0, 0.3));\n",
              "      fill: #FFFFFF;\n",
              "    }\n",
              "  </style>\n",
              "\n",
              "      <script>\n",
              "        const buttonEl =\n",
              "          document.querySelector('#df-2cbeff44-d82f-4109-bea5-b5ee4923d3d6 button.colab-df-convert');\n",
              "        buttonEl.style.display =\n",
              "          google.colab.kernel.accessAllowed ? 'block' : 'none';\n",
              "\n",
              "        async function convertToInteractive(key) {\n",
              "          const element = document.querySelector('#df-2cbeff44-d82f-4109-bea5-b5ee4923d3d6');\n",
              "          const dataTable =\n",
              "            await google.colab.kernel.invokeFunction('convertToInteractive',\n",
              "                                                     [key], {});\n",
              "          if (!dataTable) return;\n",
              "\n",
              "          const docLinkHtml = 'Like what you see? Visit the ' +\n",
              "            '<a target=\"_blank\" href=https://colab.research.google.com/notebooks/data_table.ipynb>data table notebook</a>'\n",
              "            + ' to learn more about interactive tables.';\n",
              "          element.innerHTML = '';\n",
              "          dataTable['output_type'] = 'display_data';\n",
              "          await google.colab.output.renderOutput(dataTable, element);\n",
              "          const docLink = document.createElement('div');\n",
              "          docLink.innerHTML = docLinkHtml;\n",
              "          element.appendChild(docLink);\n",
              "        }\n",
              "      </script>\n",
              "    </div>\n",
              "  </div>\n",
              "  "
            ]
          },
          "metadata": {},
          "execution_count": 10
        }
      ]
    },
    {
      "cell_type": "markdown",
      "source": [
        "## **Task #1**\n",
        "\n",
        "Veri setine göre uzun soluklu filmler hangi dilde oluşturulmuştur? Görselleştirme yapınız."
      ],
      "metadata": {
        "id": "8cogVOrVxHqH"
      }
    },
    {
      "cell_type": "code",
      "source": [
        "df1 = df[df['Runtime'] >= 120] #120 dk ve uzeri filmler listelendi\n",
        "df1"
      ],
      "metadata": {
        "colab": {
          "base_uri": "https://localhost:8080/",
          "height": 424
        },
        "id": "yYtoUcVnAK7N",
        "outputId": "588e55d9-5087-479f-b033-3bd233349a4a"
      },
      "execution_count": 11,
      "outputs": [
        {
          "output_type": "execute_result",
          "data": {
            "text/plain": [
              "                                     Title                Genre   Premiere  \\\n",
              "5                                    Drive               Action 2019-11-01   \n",
              "7          The Last Days of American Crime  Heist film/Thriller 2020-06-05   \n",
              "9                       Sardar Ka Grandson               Comedy 2021-05-18   \n",
              "16                           Ghost Stories     Horror anthology 2020-01-01   \n",
              "23                   The Girl on the Train             Thriller 2021-02-26   \n",
              "..                                     ...                  ...        ...   \n",
              "562             The Trial of the Chicago 7                Drama 2020-10-16   \n",
              "564                                 Icarus          Documentary 2017-08-04   \n",
              "565                         Marriage Story                Drama 2019-12-06   \n",
              "579  Taylor Swift: Reputation Stadium Tour         Concert Film 2018-12-31   \n",
              "581                Springsteen on Broadway         One-man show 2018-12-16   \n",
              "\n",
              "     Runtime  IMDB Score Language  \n",
              "5        147         3.5    Hindi  \n",
              "7        149         3.7  English  \n",
              "9        139         4.1    Hindi  \n",
              "16       144         4.3    Hindi  \n",
              "23       120         4.4    Hindi  \n",
              "..       ...         ...      ...  \n",
              "562      130         7.8  English  \n",
              "564      120         7.9  English  \n",
              "565      136         7.9  English  \n",
              "579      125         8.4  English  \n",
              "581      153         8.5  English  \n",
              "\n",
              "[74 rows x 6 columns]"
            ],
            "text/html": [
              "\n",
              "  <div id=\"df-e8202905-521f-4972-ad3a-212b641f59dd\">\n",
              "    <div class=\"colab-df-container\">\n",
              "      <div>\n",
              "<style scoped>\n",
              "    .dataframe tbody tr th:only-of-type {\n",
              "        vertical-align: middle;\n",
              "    }\n",
              "\n",
              "    .dataframe tbody tr th {\n",
              "        vertical-align: top;\n",
              "    }\n",
              "\n",
              "    .dataframe thead th {\n",
              "        text-align: right;\n",
              "    }\n",
              "</style>\n",
              "<table border=\"1\" class=\"dataframe\">\n",
              "  <thead>\n",
              "    <tr style=\"text-align: right;\">\n",
              "      <th></th>\n",
              "      <th>Title</th>\n",
              "      <th>Genre</th>\n",
              "      <th>Premiere</th>\n",
              "      <th>Runtime</th>\n",
              "      <th>IMDB Score</th>\n",
              "      <th>Language</th>\n",
              "    </tr>\n",
              "  </thead>\n",
              "  <tbody>\n",
              "    <tr>\n",
              "      <th>5</th>\n",
              "      <td>Drive</td>\n",
              "      <td>Action</td>\n",
              "      <td>2019-11-01</td>\n",
              "      <td>147</td>\n",
              "      <td>3.5</td>\n",
              "      <td>Hindi</td>\n",
              "    </tr>\n",
              "    <tr>\n",
              "      <th>7</th>\n",
              "      <td>The Last Days of American Crime</td>\n",
              "      <td>Heist film/Thriller</td>\n",
              "      <td>2020-06-05</td>\n",
              "      <td>149</td>\n",
              "      <td>3.7</td>\n",
              "      <td>English</td>\n",
              "    </tr>\n",
              "    <tr>\n",
              "      <th>9</th>\n",
              "      <td>Sardar Ka Grandson</td>\n",
              "      <td>Comedy</td>\n",
              "      <td>2021-05-18</td>\n",
              "      <td>139</td>\n",
              "      <td>4.1</td>\n",
              "      <td>Hindi</td>\n",
              "    </tr>\n",
              "    <tr>\n",
              "      <th>16</th>\n",
              "      <td>Ghost Stories</td>\n",
              "      <td>Horror anthology</td>\n",
              "      <td>2020-01-01</td>\n",
              "      <td>144</td>\n",
              "      <td>4.3</td>\n",
              "      <td>Hindi</td>\n",
              "    </tr>\n",
              "    <tr>\n",
              "      <th>23</th>\n",
              "      <td>The Girl on the Train</td>\n",
              "      <td>Thriller</td>\n",
              "      <td>2021-02-26</td>\n",
              "      <td>120</td>\n",
              "      <td>4.4</td>\n",
              "      <td>Hindi</td>\n",
              "    </tr>\n",
              "    <tr>\n",
              "      <th>...</th>\n",
              "      <td>...</td>\n",
              "      <td>...</td>\n",
              "      <td>...</td>\n",
              "      <td>...</td>\n",
              "      <td>...</td>\n",
              "      <td>...</td>\n",
              "    </tr>\n",
              "    <tr>\n",
              "      <th>562</th>\n",
              "      <td>The Trial of the Chicago 7</td>\n",
              "      <td>Drama</td>\n",
              "      <td>2020-10-16</td>\n",
              "      <td>130</td>\n",
              "      <td>7.8</td>\n",
              "      <td>English</td>\n",
              "    </tr>\n",
              "    <tr>\n",
              "      <th>564</th>\n",
              "      <td>Icarus</td>\n",
              "      <td>Documentary</td>\n",
              "      <td>2017-08-04</td>\n",
              "      <td>120</td>\n",
              "      <td>7.9</td>\n",
              "      <td>English</td>\n",
              "    </tr>\n",
              "    <tr>\n",
              "      <th>565</th>\n",
              "      <td>Marriage Story</td>\n",
              "      <td>Drama</td>\n",
              "      <td>2019-12-06</td>\n",
              "      <td>136</td>\n",
              "      <td>7.9</td>\n",
              "      <td>English</td>\n",
              "    </tr>\n",
              "    <tr>\n",
              "      <th>579</th>\n",
              "      <td>Taylor Swift: Reputation Stadium Tour</td>\n",
              "      <td>Concert Film</td>\n",
              "      <td>2018-12-31</td>\n",
              "      <td>125</td>\n",
              "      <td>8.4</td>\n",
              "      <td>English</td>\n",
              "    </tr>\n",
              "    <tr>\n",
              "      <th>581</th>\n",
              "      <td>Springsteen on Broadway</td>\n",
              "      <td>One-man show</td>\n",
              "      <td>2018-12-16</td>\n",
              "      <td>153</td>\n",
              "      <td>8.5</td>\n",
              "      <td>English</td>\n",
              "    </tr>\n",
              "  </tbody>\n",
              "</table>\n",
              "<p>74 rows × 6 columns</p>\n",
              "</div>\n",
              "      <button class=\"colab-df-convert\" onclick=\"convertToInteractive('df-e8202905-521f-4972-ad3a-212b641f59dd')\"\n",
              "              title=\"Convert this dataframe to an interactive table.\"\n",
              "              style=\"display:none;\">\n",
              "        \n",
              "  <svg xmlns=\"http://www.w3.org/2000/svg\" height=\"24px\"viewBox=\"0 0 24 24\"\n",
              "       width=\"24px\">\n",
              "    <path d=\"M0 0h24v24H0V0z\" fill=\"none\"/>\n",
              "    <path d=\"M18.56 5.44l.94 2.06.94-2.06 2.06-.94-2.06-.94-.94-2.06-.94 2.06-2.06.94zm-11 1L8.5 8.5l.94-2.06 2.06-.94-2.06-.94L8.5 2.5l-.94 2.06-2.06.94zm10 10l.94 2.06.94-2.06 2.06-.94-2.06-.94-.94-2.06-.94 2.06-2.06.94z\"/><path d=\"M17.41 7.96l-1.37-1.37c-.4-.4-.92-.59-1.43-.59-.52 0-1.04.2-1.43.59L10.3 9.45l-7.72 7.72c-.78.78-.78 2.05 0 2.83L4 21.41c.39.39.9.59 1.41.59.51 0 1.02-.2 1.41-.59l7.78-7.78 2.81-2.81c.8-.78.8-2.07 0-2.86zM5.41 20L4 18.59l7.72-7.72 1.47 1.35L5.41 20z\"/>\n",
              "  </svg>\n",
              "      </button>\n",
              "      \n",
              "  <style>\n",
              "    .colab-df-container {\n",
              "      display:flex;\n",
              "      flex-wrap:wrap;\n",
              "      gap: 12px;\n",
              "    }\n",
              "\n",
              "    .colab-df-convert {\n",
              "      background-color: #E8F0FE;\n",
              "      border: none;\n",
              "      border-radius: 50%;\n",
              "      cursor: pointer;\n",
              "      display: none;\n",
              "      fill: #1967D2;\n",
              "      height: 32px;\n",
              "      padding: 0 0 0 0;\n",
              "      width: 32px;\n",
              "    }\n",
              "\n",
              "    .colab-df-convert:hover {\n",
              "      background-color: #E2EBFA;\n",
              "      box-shadow: 0px 1px 2px rgba(60, 64, 67, 0.3), 0px 1px 3px 1px rgba(60, 64, 67, 0.15);\n",
              "      fill: #174EA6;\n",
              "    }\n",
              "\n",
              "    [theme=dark] .colab-df-convert {\n",
              "      background-color: #3B4455;\n",
              "      fill: #D2E3FC;\n",
              "    }\n",
              "\n",
              "    [theme=dark] .colab-df-convert:hover {\n",
              "      background-color: #434B5C;\n",
              "      box-shadow: 0px 1px 3px 1px rgba(0, 0, 0, 0.15);\n",
              "      filter: drop-shadow(0px 1px 2px rgba(0, 0, 0, 0.3));\n",
              "      fill: #FFFFFF;\n",
              "    }\n",
              "  </style>\n",
              "\n",
              "      <script>\n",
              "        const buttonEl =\n",
              "          document.querySelector('#df-e8202905-521f-4972-ad3a-212b641f59dd button.colab-df-convert');\n",
              "        buttonEl.style.display =\n",
              "          google.colab.kernel.accessAllowed ? 'block' : 'none';\n",
              "\n",
              "        async function convertToInteractive(key) {\n",
              "          const element = document.querySelector('#df-e8202905-521f-4972-ad3a-212b641f59dd');\n",
              "          const dataTable =\n",
              "            await google.colab.kernel.invokeFunction('convertToInteractive',\n",
              "                                                     [key], {});\n",
              "          if (!dataTable) return;\n",
              "\n",
              "          const docLinkHtml = 'Like what you see? Visit the ' +\n",
              "            '<a target=\"_blank\" href=https://colab.research.google.com/notebooks/data_table.ipynb>data table notebook</a>'\n",
              "            + ' to learn more about interactive tables.';\n",
              "          element.innerHTML = '';\n",
              "          dataTable['output_type'] = 'display_data';\n",
              "          await google.colab.output.renderOutput(dataTable, element);\n",
              "          const docLink = document.createElement('div');\n",
              "          docLink.innerHTML = docLinkHtml;\n",
              "          element.appendChild(docLink);\n",
              "        }\n",
              "      </script>\n",
              "    </div>\n",
              "  </div>\n",
              "  "
            ]
          },
          "metadata": {},
          "execution_count": 11
        }
      ]
    },
    {
      "cell_type": "code",
      "source": [
        "ax = sns.countplot(data=df1, y = \"Language\", color = \"darkred\",\n",
        "                   order=df1[\"Language\"].value_counts().index)\n",
        "for p in ax.patches:\n",
        "  cnt = \"{:.0f}\".format(p.get_width())\n",
        "  x = p.get_x() + p.get_width() + 0.2\n",
        "  y = p.get_y() + p.get_height() - 0.2\n",
        "  ax.annotate(cnt, (x,y))\n",
        "ax.set(xlabel=\"Number of Movies\")"
      ],
      "metadata": {
        "colab": {
          "base_uri": "https://localhost:8080/",
          "height": 575
        },
        "id": "wK_BlJa1m-A5",
        "outputId": "47eafaa6-04a9-4cee-9911-c3de115895c2"
      },
      "execution_count": 12,
      "outputs": [
        {
          "output_type": "execute_result",
          "data": {
            "text/plain": [
              "[Text(0.5, 0, 'Number of Movies')]"
            ]
          },
          "metadata": {},
          "execution_count": 12
        },
        {
          "output_type": "display_data",
          "data": {
            "text/plain": [
              "<Figure size 936x648 with 1 Axes>"
            ],
            "image/png": "[encoded data removed]"
          },
          "metadata": {}
        }
      ]
    },
    {
      "cell_type": "markdown",
      "source": [
        "## **Task #2**\n",
        "\n",
        "2019 Ocak ile 2020 Haziran tarihleri arasında 'Documentary' türünde çekilmiş filmlerin IMDB değerlerini bulup görselleştiriniz."
      ],
      "metadata": {
        "id": "lRr3C1izxsf7"
      }
    },
    {
      "cell_type": "code",
      "source": [
        "df2 = df[(df[\"Genre\"] == \"Documentary\") & (df[\"Premiere\"] >= \"2019-01-01\") & (df[\"Premiere\"] < \"2020-07-01\")]\n",
        "df2.head()"
      ],
      "metadata": {
        "id": "gm5idXAry-xM",
        "colab": {
          "base_uri": "https://localhost:8080/",
          "height": 206
        },
        "outputId": "13417508-17cd-4e71-a163-1607d5cd9030"
      },
      "execution_count": 14,
      "outputs": [
        {
          "output_type": "execute_result",
          "data": {
            "text/plain": [
              "                                 Title        Genre   Premiere  Runtime  \\\n",
              "0                      Enter the Anime  Documentary 2019-08-05       58   \n",
              "15                      After the Raid  Documentary 2019-12-19       25   \n",
              "20   Hello Privilege. It's Me, Chelsea  Documentary 2019-09-13       64   \n",
              "30                         After Maria  Documentary 2019-05-24       37   \n",
              "111               Ghosts of Sugar Land  Documentary 2019-10-16       21   \n",
              "\n",
              "     IMDB Score          Language  \n",
              "0           2.5  English/Japanese  \n",
              "15          4.3           Spanish  \n",
              "20          4.4           English  \n",
              "30          4.6   English/Spanish  \n",
              "111         5.5           English  "
            ],
            "text/html": [
              "\n",
              "  <div id=\"df-b93f44bd-3f61-49b6-991f-fc502ecfd061\">\n",
              "    <div class=\"colab-df-container\">\n",
              "      <div>\n",
              "<style scoped>\n",
              "    .dataframe tbody tr th:only-of-type {\n",
              "        vertical-align: middle;\n",
              "    }\n",
              "\n",
              "    .dataframe tbody tr th {\n",
              "        vertical-align: top;\n",
              "    }\n",
              "\n",
              "    .dataframe thead th {\n",
              "        text-align: right;\n",
              "    }\n",
              "</style>\n",
              "<table border=\"1\" class=\"dataframe\">\n",
              "  <thead>\n",
              "    <tr style=\"text-align: right;\">\n",
              "      <th></th>\n",
              "      <th>Title</th>\n",
              "      <th>Genre</th>\n",
              "      <th>Premiere</th>\n",
              "      <th>Runtime</th>\n",
              "      <th>IMDB Score</th>\n",
              "      <th>Language</th>\n",
              "    </tr>\n",
              "  </thead>\n",
              "  <tbody>\n",
              "    <tr>\n",
              "      <th>0</th>\n",
              "      <td>Enter the Anime</td>\n",
              "      <td>Documentary</td>\n",
              "      <td>2019-08-05</td>\n",
              "      <td>58</td>\n",
              "      <td>2.5</td>\n",
              "      <td>English/Japanese</td>\n",
              "    </tr>\n",
              "    <tr>\n",
              "      <th>15</th>\n",
              "      <td>After the Raid</td>\n",
              "      <td>Documentary</td>\n",
              "      <td>2019-12-19</td>\n",
              "      <td>25</td>\n",
              "      <td>4.3</td>\n",
              "      <td>Spanish</td>\n",
              "    </tr>\n",
              "    <tr>\n",
              "      <th>20</th>\n",
              "      <td>Hello Privilege. It's Me, Chelsea</td>\n",
              "      <td>Documentary</td>\n",
              "      <td>2019-09-13</td>\n",
              "      <td>64</td>\n",
              "      <td>4.4</td>\n",
              "      <td>English</td>\n",
              "    </tr>\n",
              "    <tr>\n",
              "      <th>30</th>\n",
              "      <td>After Maria</td>\n",
              "      <td>Documentary</td>\n",
              "      <td>2019-05-24</td>\n",
              "      <td>37</td>\n",
              "      <td>4.6</td>\n",
              "      <td>English/Spanish</td>\n",
              "    </tr>\n",
              "    <tr>\n",
              "      <th>111</th>\n",
              "      <td>Ghosts of Sugar Land</td>\n",
              "      <td>Documentary</td>\n",
              "      <td>2019-10-16</td>\n",
              "      <td>21</td>\n",
              "      <td>5.5</td>\n",
              "      <td>English</td>\n",
              "    </tr>\n",
              "  </tbody>\n",
              "</table>\n",
              "</div>\n",
              "      <button class=\"colab-df-convert\" onclick=\"convertToInteractive('df-b93f44bd-3f61-49b6-991f-fc502ecfd061')\"\n",
              "              title=\"Convert this dataframe to an interactive table.\"\n",
              "              style=\"display:none;\">\n",
              "        \n",
              "  <svg xmlns=\"http://www.w3.org/2000/svg\" height=\"24px\"viewBox=\"0 0 24 24\"\n",
              "       width=\"24px\">\n",
              "    <path d=\"M0 0h24v24H0V0z\" fill=\"none\"/>\n",
              "    <path d=\"M18.56 5.44l.94 2.06.94-2.06 2.06-.94-2.06-.94-.94-2.06-.94 2.06-2.06.94zm-11 1L8.5 8.5l.94-2.06 2.06-.94-2.06-.94L8.5 2.5l-.94 2.06-2.06.94zm10 10l.94 2.06.94-2.06 2.06-.94-2.06-.94-.94-2.06-.94 2.06-2.06.94z\"/><path d=\"M17.41 7.96l-1.37-1.37c-.4-.4-.92-.59-1.43-.59-.52 0-1.04.2-1.43.59L10.3 9.45l-7.72 7.72c-.78.78-.78 2.05 0 2.83L4 21.41c.39.39.9.59 1.41.59.51 0 1.02-.2 1.41-.59l7.78-7.78 2.81-2.81c.8-.78.8-2.07 0-2.86zM5.41 20L4 18.59l7.72-7.72 1.47 1.35L5.41 20z\"/>\n",
              "  </svg>\n",
              "      </button>\n",
              "      \n",
              "  <style>\n",
              "    .colab-df-container {\n",
              "      display:flex;\n",
              "      flex-wrap:wrap;\n",
              "      gap: 12px;\n",
              "    }\n",
              "\n",
              "    .colab-df-convert {\n",
              "      background-color: #E8F0FE;\n",
              "      border: none;\n",
              "      border-radius: 50%;\n",
              "      cursor: pointer;\n",
              "      display: none;\n",
              "      fill: #1967D2;\n",
              "      height: 32px;\n",
              "      padding: 0 0 0 0;\n",
              "      width: 32px;\n",
              "    }\n",
              "\n",
              "    .colab-df-convert:hover {\n",
              "      background-color: #E2EBFA;\n",
              "      box-shadow: 0px 1px 2px rgba(60, 64, 67, 0.3), 0px 1px 3px 1px rgba(60, 64, 67, 0.15);\n",
              "      fill: #174EA6;\n",
              "    }\n",
              "\n",
              "    [theme=dark] .colab-df-convert {\n",
              "      background-color: #3B4455;\n",
              "      fill: #D2E3FC;\n",
              "    }\n",
              "\n",
              "    [theme=dark] .colab-df-convert:hover {\n",
              "      background-color: #434B5C;\n",
              "      box-shadow: 0px 1px 3px 1px rgba(0, 0, 0, 0.15);\n",
              "      filter: drop-shadow(0px 1px 2px rgba(0, 0, 0, 0.3));\n",
              "      fill: #FFFFFF;\n",
              "    }\n",
              "  </style>\n",
              "\n",
              "      <script>\n",
              "        const buttonEl =\n",
              "          document.querySelector('#df-b93f44bd-3f61-49b6-991f-fc502ecfd061 button.colab-df-convert');\n",
              "        buttonEl.style.display =\n",
              "          google.colab.kernel.accessAllowed ? 'block' : 'none';\n",
              "\n",
              "        async function convertToInteractive(key) {\n",
              "          const element = document.querySelector('#df-b93f44bd-3f61-49b6-991f-fc502ecfd061');\n",
              "          const dataTable =\n",
              "            await google.colab.kernel.invokeFunction('convertToInteractive',\n",
              "                                                     [key], {});\n",
              "          if (!dataTable) return;\n",
              "\n",
              "          const docLinkHtml = 'Like what you see? Visit the ' +\n",
              "            '<a target=\"_blank\" href=https://colab.research.google.com/notebooks/data_table.ipynb>data table notebook</a>'\n",
              "            + ' to learn more about interactive tables.';\n",
              "          element.innerHTML = '';\n",
              "          dataTable['output_type'] = 'display_data';\n",
              "          await google.colab.output.renderOutput(dataTable, element);\n",
              "          const docLink = document.createElement('div');\n",
              "          docLink.innerHTML = docLinkHtml;\n",
              "          element.appendChild(docLink);\n",
              "        }\n",
              "      </script>\n",
              "    </div>\n",
              "  </div>\n",
              "  "
            ]
          },
          "metadata": {},
          "execution_count": 14
        }
      ]
    },
    {
      "cell_type": "markdown",
      "source": [
        "## **Task #3**\n",
        "\n",
        "İngilizce çekilen filmler içerisinde hangi tür en yüksek IMDB puanına sahiptir?"
      ],
      "metadata": {
        "id": "Yi6JI0T4xsZG"
      }
    },
    {
      "cell_type": "code",
      "source": [
        "df3 = dat[dat[\"Language\"].str.contains(\"English\")]\n",
        "df3.head()"
      ],
      "metadata": {
        "id": "j4br7icfzqNU",
        "colab": {
          "base_uri": "https://localhost:8080/",
          "height": 206
        },
        "outputId": "d40a1f7d-4431-49a1-afe7-8e732b2d12f6"
      },
      "execution_count": 15,
      "outputs": [
        {
          "output_type": "execute_result",
          "data": {
            "text/plain": [
              "                              Title                    Genre   Premiere  \\\n",
              "0                   Enter the Anime              Documentary 2019-08-05   \n",
              "3                    The Open House          Horror thriller 2018-01-19   \n",
              "7   The Last Days of American Crime      Heist film/Thriller 2020-06-05   \n",
              "8                           Paradox  Musical/Western/Fantasy 2018-03-23   \n",
              "10             Searching for Sheela              Documentary 2021-04-22   \n",
              "\n",
              "    Runtime  IMDB Score          Language  \n",
              "0        58         2.5  English/Japanese  \n",
              "3        94         3.2           English  \n",
              "7       149         3.7           English  \n",
              "8        73         3.9           English  \n",
              "10       58         4.1           English  "
            ],
            "text/html": [
              "\n",
              "  <div id=\"df-2c78da9d-62a9-4ae5-a9a4-a3dd422cf875\">\n",
              "    <div class=\"colab-df-container\">\n",
              "      <div>\n",
              "<style scoped>\n",
              "    .dataframe tbody tr th:only-of-type {\n",
              "        vertical-align: middle;\n",
              "    }\n",
              "\n",
              "    .dataframe tbody tr th {\n",
              "        vertical-align: top;\n",
              "    }\n",
              "\n",
              "    .dataframe thead th {\n",
              "        text-align: right;\n",
              "    }\n",
              "</style>\n",
              "<table border=\"1\" class=\"dataframe\">\n",
              "  <thead>\n",
              "    <tr style=\"text-align: right;\">\n",
              "      <th></th>\n",
              "      <th>Title</th>\n",
              "      <th>Genre</th>\n",
              "      <th>Premiere</th>\n",
              "      <th>Runtime</th>\n",
              "      <th>IMDB Score</th>\n",
              "      <th>Language</th>\n",
              "    </tr>\n",
              "  </thead>\n",
              "  <tbody>\n",
              "    <tr>\n",
              "      <th>0</th>\n",
              "      <td>Enter the Anime</td>\n",
              "      <td>Documentary</td>\n",
              "      <td>2019-08-05</td>\n",
              "      <td>58</td>\n",
              "      <td>2.5</td>\n",
              "      <td>English/Japanese</td>\n",
              "    </tr>\n",
              "    <tr>\n",
              "      <th>3</th>\n",
              "      <td>The Open House</td>\n",
              "      <td>Horror thriller</td>\n",
              "      <td>2018-01-19</td>\n",
              "      <td>94</td>\n",
              "      <td>3.2</td>\n",
              "      <td>English</td>\n",
              "    </tr>\n",
              "    <tr>\n",
              "      <th>7</th>\n",
              "      <td>The Last Days of American Crime</td>\n",
              "      <td>Heist film/Thriller</td>\n",
              "      <td>2020-06-05</td>\n",
              "      <td>149</td>\n",
              "      <td>3.7</td>\n",
              "      <td>English</td>\n",
              "    </tr>\n",
              "    <tr>\n",
              "      <th>8</th>\n",
              "      <td>Paradox</td>\n",
              "      <td>Musical/Western/Fantasy</td>\n",
              "      <td>2018-03-23</td>\n",
              "      <td>73</td>\n",
              "      <td>3.9</td>\n",
              "      <td>English</td>\n",
              "    </tr>\n",
              "    <tr>\n",
              "      <th>10</th>\n",
              "      <td>Searching for Sheela</td>\n",
              "      <td>Documentary</td>\n",
              "      <td>2021-04-22</td>\n",
              "      <td>58</td>\n",
              "      <td>4.1</td>\n",
              "      <td>English</td>\n",
              "    </tr>\n",
              "  </tbody>\n",
              "</table>\n",
              "</div>\n",
              "      <button class=\"colab-df-convert\" onclick=\"convertToInteractive('df-2c78da9d-62a9-4ae5-a9a4-a3dd422cf875')\"\n",
              "              title=\"Convert this dataframe to an interactive table.\"\n",
              "              style=\"display:none;\">\n",
              "        \n",
              "  <svg xmlns=\"http://www.w3.org/2000/svg\" height=\"24px\"viewBox=\"0 0 24 24\"\n",
              "       width=\"24px\">\n",
              "    <path d=\"M0 0h24v24H0V0z\" fill=\"none\"/>\n",
              "    <path d=\"M18.56 5.44l.94 2.06.94-2.06 2.06-.94-2.06-.94-.94-2.06-.94 2.06-2.06.94zm-11 1L8.5 8.5l.94-2.06 2.06-.94-2.06-.94L8.5 2.5l-.94 2.06-2.06.94zm10 10l.94 2.06.94-2.06 2.06-.94-2.06-.94-.94-2.06-.94 2.06-2.06.94z\"/><path d=\"M17.41 7.96l-1.37-1.37c-.4-.4-.92-.59-1.43-.59-.52 0-1.04.2-1.43.59L10.3 9.45l-7.72 7.72c-.78.78-.78 2.05 0 2.83L4 21.41c.39.39.9.59 1.41.59.51 0 1.02-.2 1.41-.59l7.78-7.78 2.81-2.81c.8-.78.8-2.07 0-2.86zM5.41 20L4 18.59l7.72-7.72 1.47 1.35L5.41 20z\"/>\n",
              "  </svg>\n",
              "      </button>\n",
              "      \n",
              "  <style>\n",
              "    .colab-df-container {\n",
              "      display:flex;\n",
              "      flex-wrap:wrap;\n",
              "      gap: 12px;\n",
              "    }\n",
              "\n",
              "    .colab-df-convert {\n",
              "      background-color: #E8F0FE;\n",
              "      border: none;\n",
              "      border-radius: 50%;\n",
              "      cursor: pointer;\n",
              "      display: none;\n",
              "      fill: #1967D2;\n",
              "      height: 32px;\n",
              "      padding: 0 0 0 0;\n",
              "      width: 32px;\n",
              "    }\n",
              "\n",
              "    .colab-df-convert:hover {\n",
              "      background-color: #E2EBFA;\n",
              "      box-shadow: 0px 1px 2px rgba(60, 64, 67, 0.3), 0px 1px 3px 1px rgba(60, 64, 67, 0.15);\n",
              "      fill: #174EA6;\n",
              "    }\n",
              "\n",
              "    [theme=dark] .colab-df-convert {\n",
              "      background-color: #3B4455;\n",
              "      fill: #D2E3FC;\n",
              "    }\n",
              "\n",
              "    [theme=dark] .colab-df-convert:hover {\n",
              "      background-color: #434B5C;\n",
              "      box-shadow: 0px 1px 3px 1px rgba(0, 0, 0, 0.15);\n",
              "      filter: drop-shadow(0px 1px 2px rgba(0, 0, 0, 0.3));\n",
              "      fill: #FFFFFF;\n",
              "    }\n",
              "  </style>\n",
              "\n",
              "      <script>\n",
              "        const buttonEl =\n",
              "          document.querySelector('#df-2c78da9d-62a9-4ae5-a9a4-a3dd422cf875 button.colab-df-convert');\n",
              "        buttonEl.style.display =\n",
              "          google.colab.kernel.accessAllowed ? 'block' : 'none';\n",
              "\n",
              "        async function convertToInteractive(key) {\n",
              "          const element = document.querySelector('#df-2c78da9d-62a9-4ae5-a9a4-a3dd422cf875');\n",
              "          const dataTable =\n",
              "            await google.colab.kernel.invokeFunction('convertToInteractive',\n",
              "                                                     [key], {});\n",
              "          if (!dataTable) return;\n",
              "\n",
              "          const docLinkHtml = 'Like what you see? Visit the ' +\n",
              "            '<a target=\"_blank\" href=https://colab.research.google.com/notebooks/data_table.ipynb>data table notebook</a>'\n",
              "            + ' to learn more about interactive tables.';\n",
              "          element.innerHTML = '';\n",
              "          dataTable['output_type'] = 'display_data';\n",
              "          await google.colab.output.renderOutput(dataTable, element);\n",
              "          const docLink = document.createElement('div');\n",
              "          docLink.innerHTML = docLinkHtml;\n",
              "          element.appendChild(docLink);\n",
              "        }\n",
              "      </script>\n",
              "    </div>\n",
              "  </div>\n",
              "  "
            ]
          },
          "metadata": {},
          "execution_count": 15
        }
      ]
    },
    {
      "cell_type": "code",
      "source": [
        "df3[df3[\"IMDB Score\"] == df3[\"IMDB Score\"].max()]"
      ],
      "metadata": {
        "id": "iQIkH79cwFHf",
        "colab": {
          "base_uri": "https://localhost:8080/",
          "height": 81
        },
        "outputId": "2cbbdac4-fd12-4c99-de3b-42a2c9502fec"
      },
      "execution_count": 16,
      "outputs": [
        {
          "output_type": "execute_result",
          "data": {
            "text/plain": [
              "                                        Title        Genre   Premiere  \\\n",
              "583  David Attenborough: A Life on Our Planet  Documentary 2020-10-04   \n",
              "\n",
              "     Runtime  IMDB Score Language  \n",
              "583       83         9.0  English  "
            ],
            "text/html": [
              "\n",
              "  <div id=\"df-c13d6413-30ec-4c39-b3f7-8f7dd42105a8\">\n",
              "    <div class=\"colab-df-container\">\n",
              "      <div>\n",
              "<style scoped>\n",
              "    .dataframe tbody tr th:only-of-type {\n",
              "        vertical-align: middle;\n",
              "    }\n",
              "\n",
              "    .dataframe tbody tr th {\n",
              "        vertical-align: top;\n",
              "    }\n",
              "\n",
              "    .dataframe thead th {\n",
              "        text-align: right;\n",
              "    }\n",
              "</style>\n",
              "<table border=\"1\" class=\"dataframe\">\n",
              "  <thead>\n",
              "    <tr style=\"text-align: right;\">\n",
              "      <th></th>\n",
              "      <th>Title</th>\n",
              "      <th>Genre</th>\n",
              "      <th>Premiere</th>\n",
              "      <th>Runtime</th>\n",
              "      <th>IMDB Score</th>\n",
              "      <th>Language</th>\n",
              "    </tr>\n",
              "  </thead>\n",
              "  <tbody>\n",
              "    <tr>\n",
              "      <th>583</th>\n",
              "      <td>David Attenborough: A Life on Our Planet</td>\n",
              "      <td>Documentary</td>\n",
              "      <td>2020-10-04</td>\n",
              "      <td>83</td>\n",
              "      <td>9.0</td>\n",
              "      <td>English</td>\n",
              "    </tr>\n",
              "  </tbody>\n",
              "</table>\n",
              "</div>\n",
              "      <button class=\"colab-df-convert\" onclick=\"convertToInteractive('df-c13d6413-30ec-4c39-b3f7-8f7dd42105a8')\"\n",
              "              title=\"Convert this dataframe to an interactive table.\"\n",
              "              style=\"display:none;\">\n",
              "        \n",
              "  <svg xmlns=\"http://www.w3.org/2000/svg\" height=\"24px\"viewBox=\"0 0 24 24\"\n",
              "       width=\"24px\">\n",
              "    <path d=\"M0 0h24v24H0V0z\" fill=\"none\"/>\n",
              "    <path d=\"M18.56 5.44l.94 2.06.94-2.06 2.06-.94-2.06-.94-.94-2.06-.94 2.06-2.06.94zm-11 1L8.5 8.5l.94-2.06 2.06-.94-2.06-.94L8.5 2.5l-.94 2.06-2.06.94zm10 10l.94 2.06.94-2.06 2.06-.94-2.06-.94-.94-2.06-.94 2.06-2.06.94z\"/><path d=\"M17.41 7.96l-1.37-1.37c-.4-.4-.92-.59-1.43-.59-.52 0-1.04.2-1.43.59L10.3 9.45l-7.72 7.72c-.78.78-.78 2.05 0 2.83L4 21.41c.39.39.9.59 1.41.59.51 0 1.02-.2 1.41-.59l7.78-7.78 2.81-2.81c.8-.78.8-2.07 0-2.86zM5.41 20L4 18.59l7.72-7.72 1.47 1.35L5.41 20z\"/>\n",
              "  </svg>\n",
              "      </button>\n",
              "      \n",
              "  <style>\n",
              "    .colab-df-container {\n",
              "      display:flex;\n",
              "      flex-wrap:wrap;\n",
              "      gap: 12px;\n",
              "    }\n",
              "\n",
              "    .colab-df-convert {\n",
              "      background-color: #E8F0FE;\n",
              "      border: none;\n",
              "      border-radius: 50%;\n",
              "      cursor: pointer;\n",
              "      display: none;\n",
              "      fill: #1967D2;\n",
              "      height: 32px;\n",
              "      padding: 0 0 0 0;\n",
              "      width: 32px;\n",
              "    }\n",
              "\n",
              "    .colab-df-convert:hover {\n",
              "      background-color: #E2EBFA;\n",
              "      box-shadow: 0px 1px 2px rgba(60, 64, 67, 0.3), 0px 1px 3px 1px rgba(60, 64, 67, 0.15);\n",
              "      fill: #174EA6;\n",
              "    }\n",
              "\n",
              "    [theme=dark] .colab-df-convert {\n",
              "      background-color: #3B4455;\n",
              "      fill: #D2E3FC;\n",
              "    }\n",
              "\n",
              "    [theme=dark] .colab-df-convert:hover {\n",
              "      background-color: #434B5C;\n",
              "      box-shadow: 0px 1px 3px 1px rgba(0, 0, 0, 0.15);\n",
              "      filter: drop-shadow(0px 1px 2px rgba(0, 0, 0, 0.3));\n",
              "      fill: #FFFFFF;\n",
              "    }\n",
              "  </style>\n",
              "\n",
              "      <script>\n",
              "        const buttonEl =\n",
              "          document.querySelector('#df-c13d6413-30ec-4c39-b3f7-8f7dd42105a8 button.colab-df-convert');\n",
              "        buttonEl.style.display =\n",
              "          google.colab.kernel.accessAllowed ? 'block' : 'none';\n",
              "\n",
              "        async function convertToInteractive(key) {\n",
              "          const element = document.querySelector('#df-c13d6413-30ec-4c39-b3f7-8f7dd42105a8');\n",
              "          const dataTable =\n",
              "            await google.colab.kernel.invokeFunction('convertToInteractive',\n",
              "                                                     [key], {});\n",
              "          if (!dataTable) return;\n",
              "\n",
              "          const docLinkHtml = 'Like what you see? Visit the ' +\n",
              "            '<a target=\"_blank\" href=https://colab.research.google.com/notebooks/data_table.ipynb>data table notebook</a>'\n",
              "            + ' to learn more about interactive tables.';\n",
              "          element.innerHTML = '';\n",
              "          dataTable['output_type'] = 'display_data';\n",
              "          await google.colab.output.renderOutput(dataTable, element);\n",
              "          const docLink = document.createElement('div');\n",
              "          docLink.innerHTML = docLinkHtml;\n",
              "          element.appendChild(docLink);\n",
              "        }\n",
              "      </script>\n",
              "    </div>\n",
              "  </div>\n",
              "  "
            ]
          },
          "metadata": {},
          "execution_count": 16
        }
      ]
    },
    {
      "cell_type": "code",
      "source": [
        "df3[df3[\"IMDB Score\"] == df3[\"IMDB Score\"].max()].iloc[0][\"Genre\"]"
      ],
      "metadata": {
        "colab": {
          "base_uri": "https://localhost:8080/",
          "height": 35
        },
        "id": "PGYBJjLWwUTU",
        "outputId": "3ca3240e-23ad-4394-8ba6-aac44b8b38eb"
      },
      "execution_count": 17,
      "outputs": [
        {
          "output_type": "execute_result",
          "data": {
            "text/plain": [
              "'Documentary'"
            ],
            "application/vnd.google.colaboratory.intrinsic+json": {
              "type": "string"
            }
          },
          "metadata": {},
          "execution_count": 17
        }
      ]
    },
    {
      "cell_type": "markdown",
      "source": [
        "## **Task #4**\n",
        "\n",
        "'Hindi' Dilinde çekilmiş olan filmlerin ortalama 'runtime' suresi nedir?"
      ],
      "metadata": {
        "id": "RUBrmhIsxsP0"
      }
    },
    {
      "cell_type": "code",
      "source": [
        "df4 = df[df[\"Language\"] == \"Hindi\"]\n",
        "print(round(df4[\"Runtime\"].mean(),2), \"minutes\")"
      ],
      "metadata": {
        "id": "ydMhayRvzq62",
        "colab": {
          "base_uri": "https://localhost:8080/"
        },
        "outputId": "389095e3-8f91-4d32-9940-a50808db5a6a"
      },
      "execution_count": 22,
      "outputs": [
        {
          "output_type": "stream",
          "name": "stdout",
          "text": [
            "115.79 minutes\n"
          ]
        }
      ]
    },
    {
      "cell_type": "markdown",
      "source": [
        "## **Task #5**\n",
        "\n",
        "'Genre' Sütunu kaç kategoriye sahiptir ve bu kategoriler nelerdir? Görselleştirerek ifade ediniz."
      ],
      "metadata": {
        "id": "mhnYbTiExsGr"
      }
    },
    {
      "cell_type": "code",
      "source": [
        "print(df[\"Genre\"].nunique(),\"|\",df[\"Genre\"].unique())"
      ],
      "metadata": {
        "id": "IL4S_WXC0Z0G",
        "colab": {
          "base_uri": "https://localhost:8080/"
        },
        "outputId": "bcd70d89-f5a9-47fa-b3ab-0e6cd5a403d4"
      },
      "execution_count": 23,
      "outputs": [
        {
          "output_type": "stream",
          "name": "stdout",
          "text": [
            "115 | ['Documentary' 'Thriller' 'Science fiction/Drama' 'Horror thriller'\n",
            " 'Mystery' 'Action' 'Comedy' 'Heist film/Thriller'\n",
            " 'Musical/Western/Fantasy' 'Drama' 'Romantic comedy' 'Action comedy'\n",
            " 'Horror anthology' 'Political thriller' 'Superhero-Comedy' 'Horror'\n",
            " 'Romance drama' 'Anime / Short' 'Superhero' 'Heist' 'Western'\n",
            " 'Animation/Superhero' 'Family film' 'Action-thriller' 'Teen comedy-drama'\n",
            " 'Romantic drama' 'Animation' 'Aftershow / Interview' 'Christmas musical'\n",
            " 'Science fiction adventure' 'Science fiction' 'Variety show'\n",
            " 'Comedy-drama' 'Comedy/Fantasy/Family' 'Supernatural drama'\n",
            " 'Action/Comedy' 'Action/Science fiction' 'Romantic teenage drama'\n",
            " 'Comedy / Musical' 'Musical' 'Science fiction/Mystery' 'Crime drama'\n",
            " 'Psychological thriller drama' 'Adventure/Comedy' 'Black comedy'\n",
            " 'Romance' 'Horror comedy' 'Christian musical' 'Romantic teen drama'\n",
            " 'Family' 'Dark comedy' 'Comedy horror' 'Psychological thriller' 'Biopic'\n",
            " 'Science fiction/Thriller' 'Mockumentary' 'Satire' 'One-man show'\n",
            " 'Romantic comedy-drama' 'Comedy/Horror' 'Fantasy' 'Sports-drama'\n",
            " 'Zombie/Heist' 'Psychological horror' 'Sports film' 'Comedy mystery'\n",
            " 'Romantic thriller' 'Christmas comedy' 'War-Comedy'\n",
            " 'Romantic comedy/Holiday' 'Adventure-romance' 'Adventure'\n",
            " 'Horror-thriller' 'Dance comedy' 'Stop Motion' 'Horror/Crime drama'\n",
            " 'Urban fantasy' 'Drama/Horror' 'Family/Comedy-drama' 'War'\n",
            " 'Crime thriller' 'Science fiction/Action' 'Teen comedy horror'\n",
            " 'Concert Film' 'Musical comedy' 'Animation/Musical/Adventure'\n",
            " 'Animation / Musicial' 'Animation/Comedy/Adventure' 'Action thriller'\n",
            " 'Anime/Science fiction' 'Animation / Short' 'War drama'\n",
            " 'Family/Christmas musical' 'Science fiction thriller' 'Drama / Short'\n",
            " 'Hidden-camera prank comedy' 'Spy thriller' 'Anime/Fantasy'\n",
            " 'Animated musical comedy' 'Variety Show' 'Superhero/Action'\n",
            " 'Biographical/Comedy' 'Historical-epic' 'Animation / Comedy'\n",
            " 'Christmas/Fantasy/Adventure/Comedy' 'Mentalism special' 'Drama-Comedy'\n",
            " 'Coming-of-age comedy-drama' 'Historical drama' 'Making-of'\n",
            " 'Action-adventure' 'Animation / Science Fiction' 'Anthology/Dark comedy'\n",
            " 'Musical / Short' 'Animation/Christmas/Comedy/Adventure']\n"
          ]
        }
      ]
    },
    {
      "cell_type": "markdown",
      "source": [
        "## **Task #6**\n",
        "\n",
        "Veri setinde bulunan filmlerde en çok kullanılan 3 dili bulunuz."
      ],
      "metadata": {
        "id": "CPo9qFvVxsA9"
      }
    },
    {
      "cell_type": "code",
      "source": [
        "df6 = df[\"Language\"].value_counts()\n",
        "df6[:3]"
      ],
      "metadata": {
        "id": "rUBWTYYA0iiL",
        "colab": {
          "base_uri": "https://localhost:8080/"
        },
        "outputId": "3c782bdf-4e11-48d5-db66-484da13ff0ff"
      },
      "execution_count": 24,
      "outputs": [
        {
          "output_type": "execute_result",
          "data": {
            "text/plain": [
              "English    401\n",
              "Hindi       33\n",
              "Spanish     31\n",
              "Name: Language, dtype: int64"
            ]
          },
          "metadata": {},
          "execution_count": 24
        }
      ]
    },
    {
      "cell_type": "markdown",
      "source": [
        "## **Task #7**\n",
        "\n",
        "IMDB puanı en yüksek olan ilk 10 film hangileridir?"
      ],
      "metadata": {
        "id": "VaimU37Exr9T"
      }
    },
    {
      "cell_type": "code",
      "source": [
        "df.sort_values(by=\"IMDB Score\", ascending = False).head(10)"
      ],
      "metadata": {
        "id": "vWH5ZyT10FZK",
        "colab": {
          "base_uri": "https://localhost:8080/",
          "height": 363
        },
        "outputId": "7b7504ad-009f-4b8e-dddd-76cf2c32556a"
      },
      "execution_count": 26,
      "outputs": [
        {
          "output_type": "execute_result",
          "data": {
            "text/plain": [
              "                                           Title  \\\n",
              "583     David Attenborough: A Life on Our Planet   \n",
              "582    Emicida: AmarElo - It's All For Yesterday   \n",
              "581                      Springsteen on Broadway   \n",
              "580  Winter on Fire: Ukraine's Fight for Freedom   \n",
              "579        Taylor Swift: Reputation Stadium Tour   \n",
              "578   Ben Platt: Live from Radio City Music Hall   \n",
              "577                       Dancing with the Birds   \n",
              "576                      Cuba and the Cameraman    \n",
              "573                                        Klaus   \n",
              "571                                         13th   \n",
              "\n",
              "                                    Genre   Premiere  Runtime  IMDB Score  \\\n",
              "583                           Documentary 2020-10-04       83         9.0   \n",
              "582                           Documentary 2020-12-08       89         8.6   \n",
              "581                          One-man show 2018-12-16      153         8.5   \n",
              "580                           Documentary 2015-10-09       91         8.4   \n",
              "579                          Concert Film 2018-12-31      125         8.4   \n",
              "578                          Concert Film 2020-05-20       85         8.4   \n",
              "577                           Documentary 2019-10-23       51         8.3   \n",
              "576                           Documentary 2017-11-24      114         8.3   \n",
              "573  Animation/Christmas/Comedy/Adventure 2019-11-15       97         8.2   \n",
              "571                           Documentary 2016-10-07      100         8.2   \n",
              "\n",
              "                     Language  \n",
              "583                   English  \n",
              "582                Portuguese  \n",
              "581                   English  \n",
              "580  English/Ukranian/Russian  \n",
              "579                   English  \n",
              "578                   English  \n",
              "577                   English  \n",
              "576                   English  \n",
              "573                   English  \n",
              "571                   English  "
            ],
            "text/html": [
              "\n",
              "  <div id=\"df-ebc3dbf7-f355-4e67-ad6a-d6b6229f42af\">\n",
              "    <div class=\"colab-df-container\">\n",
              "      <div>\n",
              "<style scoped>\n",
              "    .dataframe tbody tr th:only-of-type {\n",
              "        vertical-align: middle;\n",
              "    }\n",
              "\n",
              "    .dataframe tbody tr th {\n",
              "        vertical-align: top;\n",
              "    }\n",
              "\n",
              "    .dataframe thead th {\n",
              "        text-align: right;\n",
              "    }\n",
              "</style>\n",
              "<table border=\"1\" class=\"dataframe\">\n",
              "  <thead>\n",
              "    <tr style=\"text-align: right;\">\n",
              "      <th></th>\n",
              "      <th>Title</th>\n",
              "      <th>Genre</th>\n",
              "      <th>Premiere</th>\n",
              "      <th>Runtime</th>\n",
              "      <th>IMDB Score</th>\n",
              "      <th>Language</th>\n",
              "    </tr>\n",
              "  </thead>\n",
              "  <tbody>\n",
              "    <tr>\n",
              "      <th>583</th>\n",
              "      <td>David Attenborough: A Life on Our Planet</td>\n",
              "      <td>Documentary</td>\n",
              "      <td>2020-10-04</td>\n",
              "      <td>83</td>\n",
              "      <td>9.0</td>\n",
              "      <td>English</td>\n",
              "    </tr>\n",
              "    <tr>\n",
              "      <th>582</th>\n",
              "      <td>Emicida: AmarElo - It's All For Yesterday</td>\n",
              "      <td>Documentary</td>\n",
              "      <td>2020-12-08</td>\n",
              "      <td>89</td>\n",
              "      <td>8.6</td>\n",
              "      <td>Portuguese</td>\n",
              "    </tr>\n",
              "    <tr>\n",
              "      <th>581</th>\n",
              "      <td>Springsteen on Broadway</td>\n",
              "      <td>One-man show</td>\n",
              "      <td>2018-12-16</td>\n",
              "      <td>153</td>\n",
              "      <td>8.5</td>\n",
              "      <td>English</td>\n",
              "    </tr>\n",
              "    <tr>\n",
              "      <th>580</th>\n",
              "      <td>Winter on Fire: Ukraine's Fight for Freedom</td>\n",
              "      <td>Documentary</td>\n",
              "      <td>2015-10-09</td>\n",
              "      <td>91</td>\n",
              "      <td>8.4</td>\n",
              "      <td>English/Ukranian/Russian</td>\n",
              "    </tr>\n",
              "    <tr>\n",
              "      <th>579</th>\n",
              "      <td>Taylor Swift: Reputation Stadium Tour</td>\n",
              "      <td>Concert Film</td>\n",
              "      <td>2018-12-31</td>\n",
              "      <td>125</td>\n",
              "      <td>8.4</td>\n",
              "      <td>English</td>\n",
              "    </tr>\n",
              "    <tr>\n",
              "      <th>578</th>\n",
              "      <td>Ben Platt: Live from Radio City Music Hall</td>\n",
              "      <td>Concert Film</td>\n",
              "      <td>2020-05-20</td>\n",
              "      <td>85</td>\n",
              "      <td>8.4</td>\n",
              "      <td>English</td>\n",
              "    </tr>\n",
              "    <tr>\n",
              "      <th>577</th>\n",
              "      <td>Dancing with the Birds</td>\n",
              "      <td>Documentary</td>\n",
              "      <td>2019-10-23</td>\n",
              "      <td>51</td>\n",
              "      <td>8.3</td>\n",
              "      <td>English</td>\n",
              "    </tr>\n",
              "    <tr>\n",
              "      <th>576</th>\n",
              "      <td>Cuba and the Cameraman</td>\n",
              "      <td>Documentary</td>\n",
              "      <td>2017-11-24</td>\n",
              "      <td>114</td>\n",
              "      <td>8.3</td>\n",
              "      <td>English</td>\n",
              "    </tr>\n",
              "    <tr>\n",
              "      <th>573</th>\n",
              "      <td>Klaus</td>\n",
              "      <td>Animation/Christmas/Comedy/Adventure</td>\n",
              "      <td>2019-11-15</td>\n",
              "      <td>97</td>\n",
              "      <td>8.2</td>\n",
              "      <td>English</td>\n",
              "    </tr>\n",
              "    <tr>\n",
              "      <th>571</th>\n",
              "      <td>13th</td>\n",
              "      <td>Documentary</td>\n",
              "      <td>2016-10-07</td>\n",
              "      <td>100</td>\n",
              "      <td>8.2</td>\n",
              "      <td>English</td>\n",
              "    </tr>\n",
              "  </tbody>\n",
              "</table>\n",
              "</div>\n",
              "      <button class=\"colab-df-convert\" onclick=\"convertToInteractive('df-ebc3dbf7-f355-4e67-ad6a-d6b6229f42af')\"\n",
              "              title=\"Convert this dataframe to an interactive table.\"\n",
              "              style=\"display:none;\">\n",
              "        \n",
              "  <svg xmlns=\"http://www.w3.org/2000/svg\" height=\"24px\"viewBox=\"0 0 24 24\"\n",
              "       width=\"24px\">\n",
              "    <path d=\"M0 0h24v24H0V0z\" fill=\"none\"/>\n",
              "    <path d=\"M18.56 5.44l.94 2.06.94-2.06 2.06-.94-2.06-.94-.94-2.06-.94 2.06-2.06.94zm-11 1L8.5 8.5l.94-2.06 2.06-.94-2.06-.94L8.5 2.5l-.94 2.06-2.06.94zm10 10l.94 2.06.94-2.06 2.06-.94-2.06-.94-.94-2.06-.94 2.06-2.06.94z\"/><path d=\"M17.41 7.96l-1.37-1.37c-.4-.4-.92-.59-1.43-.59-.52 0-1.04.2-1.43.59L10.3 9.45l-7.72 7.72c-.78.78-.78 2.05 0 2.83L4 21.41c.39.39.9.59 1.41.59.51 0 1.02-.2 1.41-.59l7.78-7.78 2.81-2.81c.8-.78.8-2.07 0-2.86zM5.41 20L4 18.59l7.72-7.72 1.47 1.35L5.41 20z\"/>\n",
              "  </svg>\n",
              "      </button>\n",
              "      \n",
              "  <style>\n",
              "    .colab-df-container {\n",
              "      display:flex;\n",
              "      flex-wrap:wrap;\n",
              "      gap: 12px;\n",
              "    }\n",
              "\n",
              "    .colab-df-convert {\n",
              "      background-color: #E8F0FE;\n",
              "      border: none;\n",
              "      border-radius: 50%;\n",
              "      cursor: pointer;\n",
              "      display: none;\n",
              "      fill: #1967D2;\n",
              "      height: 32px;\n",
              "      padding: 0 0 0 0;\n",
              "      width: 32px;\n",
              "    }\n",
              "\n",
              "    .colab-df-convert:hover {\n",
              "      background-color: #E2EBFA;\n",
              "      box-shadow: 0px 1px 2px rgba(60, 64, 67, 0.3), 0px 1px 3px 1px rgba(60, 64, 67, 0.15);\n",
              "      fill: #174EA6;\n",
              "    }\n",
              "\n",
              "    [theme=dark] .colab-df-convert {\n",
              "      background-color: #3B4455;\n",
              "      fill: #D2E3FC;\n",
              "    }\n",
              "\n",
              "    [theme=dark] .colab-df-convert:hover {\n",
              "      background-color: #434B5C;\n",
              "      box-shadow: 0px 1px 3px 1px rgba(0, 0, 0, 0.15);\n",
              "      filter: drop-shadow(0px 1px 2px rgba(0, 0, 0, 0.3));\n",
              "      fill: #FFFFFF;\n",
              "    }\n",
              "  </style>\n",
              "\n",
              "      <script>\n",
              "        const buttonEl =\n",
              "          document.querySelector('#df-ebc3dbf7-f355-4e67-ad6a-d6b6229f42af button.colab-df-convert');\n",
              "        buttonEl.style.display =\n",
              "          google.colab.kernel.accessAllowed ? 'block' : 'none';\n",
              "\n",
              "        async function convertToInteractive(key) {\n",
              "          const element = document.querySelector('#df-ebc3dbf7-f355-4e67-ad6a-d6b6229f42af');\n",
              "          const dataTable =\n",
              "            await google.colab.kernel.invokeFunction('convertToInteractive',\n",
              "                                                     [key], {});\n",
              "          if (!dataTable) return;\n",
              "\n",
              "          const docLinkHtml = 'Like what you see? Visit the ' +\n",
              "            '<a target=\"_blank\" href=https://colab.research.google.com/notebooks/data_table.ipynb>data table notebook</a>'\n",
              "            + ' to learn more about interactive tables.';\n",
              "          element.innerHTML = '';\n",
              "          dataTable['output_type'] = 'display_data';\n",
              "          await google.colab.output.renderOutput(dataTable, element);\n",
              "          const docLink = document.createElement('div');\n",
              "          docLink.innerHTML = docLinkHtml;\n",
              "          element.appendChild(docLink);\n",
              "        }\n",
              "      </script>\n",
              "    </div>\n",
              "  </div>\n",
              "  "
            ]
          },
          "metadata": {},
          "execution_count": 26
        }
      ]
    },
    {
      "cell_type": "markdown",
      "source": [
        "## **Task #8**\n",
        "\n",
        "IMDB puanı ile 'Runtime' arasında nasıl bir korelasyon vardır? İnceleyip görselleştiriniz."
      ],
      "metadata": {
        "id": "739lAQK3xr6L"
      }
    },
    {
      "cell_type": "code",
      "source": [
        "sns.scatterplot(\"Runtime\", \"IMDB Score\", data=dat, alpha=.75, color = \"black\")"
      ],
      "metadata": {
        "colab": {
          "base_uri": "https://localhost:8080/",
          "height": 631
        },
        "id": "Dzs3jxDwHcRG",
        "outputId": "971e84a0-085b-4ddc-b160-ad490fe54acf"
      },
      "execution_count": 27,
      "outputs": [
        {
          "output_type": "stream",
          "name": "stderr",
          "text": [
            "/usr/local/lib/python3.7/dist-packages/seaborn/_decorators.py:43: FutureWarning: Pass the following variables as keyword args: x, y. From version 0.12, the only valid positional argument will be `data`, and passing other arguments without an explicit keyword will result in an error or misinterpretation.\n",
            "  FutureWarning\n"
          ]
        },
        {
          "output_type": "execute_result",
          "data": {
            "text/plain": [
              "<matplotlib.axes._subplots.AxesSubplot at 0x7f9c8a4a0410>"
            ]
          },
          "metadata": {},
          "execution_count": 27
        },
        {
          "output_type": "display_data",
          "data": {
            "text/plain": [
              "<Figure size 936x648 with 1 Axes>"
            ],
            "image/png": "[encoded data removed]"
          },
          "metadata": {}
        }
      ]
    },
    {
      "cell_type": "markdown",
      "source": [
        "Before conducting a statistical test for correlation, we might want to sketch a graph of these two numeric variables. \"Graphically\", there is no correlation is seen however we still need a statistical test for a solid evidence. Pearson correlation coefficient (r) can bu used for this."
      ],
      "metadata": {
        "id": "3g0YgBC3PtWq"
      }
    },
    {
      "cell_type": "code",
      "source": [
        "from scipy.stats import pearsonr\n",
        "r, p_val = pearsonr(dat[\"Runtime\"], dat[\"IMDB Score\"])\n",
        "round(r,2),round(p_val,2)"
      ],
      "metadata": {
        "colab": {
          "base_uri": "https://localhost:8080/"
        },
        "id": "t7x3PRRcRd_W",
        "outputId": "f5386710-4621-4dac-8da0-0359b66f4f43"
      },
      "execution_count": 28,
      "outputs": [
        {
          "output_type": "execute_result",
          "data": {
            "text/plain": [
              "(-0.04, 0.32)"
            ]
          },
          "metadata": {},
          "execution_count": 28
        }
      ]
    },
    {
      "cell_type": "markdown",
      "source": [
        "The sign of r is negative, which suggest that a possible negative relationship but its magnitude is too small. Taking into account that p value is 0.32, we cannot conclude a linear correlation between IMDb score of movies and their runtime."
      ],
      "metadata": {
        "id": "Voy-JvW7UQtC"
      }
    },
    {
      "cell_type": "markdown",
      "source": [
        "## **Task #9**\n",
        "\n",
        "IMDB Puanı en yüksek olan ilk 10 'Genre' hangileridir? Görselleştiriniz."
      ],
      "metadata": {
        "id": "ERvxUFwBxr3F"
      }
    },
    {
      "cell_type": "code",
      "source": [
        "df9 = dat.sort_values(by=\"IMDB Score\", ascending = False).head(10)\n",
        "df9Chart = sns.countplot(data=df9, x = \"Genre\", color = \"red\")\n"
      ],
      "metadata": {
        "id": "kA5arOhj0I1o",
        "colab": {
          "base_uri": "https://localhost:8080/",
          "height": 557
        },
        "outputId": "dde19730-05aa-4ad5-f721-172c3ad4f51d"
      },
      "execution_count": 29,
      "outputs": [
        {
          "output_type": "display_data",
          "data": {
            "text/plain": [
              "<Figure size 936x648 with 1 Axes>"
            ],
            "image/png": "[encoded data removed]"
          },
          "metadata": {}
        }
      ]
    },
    {
      "cell_type": "markdown",
      "source": [
        "## **Task #10**\n",
        "\n",
        "'Runtime' değeri en yüksek olan ilk 10 film hangileridir? Görselleştiriniz."
      ],
      "metadata": {
        "id": "XXJ-3AATxrvb"
      }
    },
    {
      "cell_type": "code",
      "source": [
        "df.sort_values(by=\"Runtime\", ascending = False).head(10)"
      ],
      "metadata": {
        "id": "OajcXamI0xPX",
        "colab": {
          "base_uri": "https://localhost:8080/",
          "height": 363
        },
        "outputId": "73a60b03-6bca-43ba-96af-2bff8de64393"
      },
      "execution_count": 30,
      "outputs": [
        {
          "output_type": "execute_result",
          "data": {
            "text/plain": [
              "                               Title                  Genre   Premiere  \\\n",
              "561                     The Irishman            Crime drama 2019-11-27   \n",
              "328                      Da 5 Bloods              War drama 2020-06-12   \n",
              "581          Springsteen on Broadway           One-man show 2018-12-16   \n",
              "247                         Citation                  Drama 2020-11-06   \n",
              "284               The Forest of Love                  Drama 2019-10-11   \n",
              "509                   Raat Akeli Hai               Thriller 2020-07-31   \n",
              "7    The Last Days of American Crime    Heist film/Thriller 2020-06-05   \n",
              "543                             Ludo  Anthology/Dark comedy 2020-11-12   \n",
              "194                 Army of the Dead           Zombie/Heist 2021-05-21   \n",
              "5                              Drive                 Action 2019-11-01   \n",
              "\n",
              "     Runtime  IMDB Score  Language  \n",
              "561      209         7.8   English  \n",
              "328      155         6.5   English  \n",
              "581      153         8.5   English  \n",
              "247      151         6.2   English  \n",
              "284      151         6.3  Japanese  \n",
              "509      149         7.3     Hindi  \n",
              "7        149         3.7   English  \n",
              "543      149         7.6     Hindi  \n",
              "194      148         5.9   English  \n",
              "5        147         3.5     Hindi  "
            ],
            "text/html": [
              "\n",
              "  <div id=\"df-908bd45b-e14a-472c-bf51-a459f6766693\">\n",
              "    <div class=\"colab-df-container\">\n",
              "      <div>\n",
              "<style scoped>\n",
              "    .dataframe tbody tr th:only-of-type {\n",
              "        vertical-align: middle;\n",
              "    }\n",
              "\n",
              "    .dataframe tbody tr th {\n",
              "        vertical-align: top;\n",
              "    }\n",
              "\n",
              "    .dataframe thead th {\n",
              "        text-align: right;\n",
              "    }\n",
              "</style>\n",
              "<table border=\"1\" class=\"dataframe\">\n",
              "  <thead>\n",
              "    <tr style=\"text-align: right;\">\n",
              "      <th></th>\n",
              "      <th>Title</th>\n",
              "      <th>Genre</th>\n",
              "      <th>Premiere</th>\n",
              "      <th>Runtime</th>\n",
              "      <th>IMDB Score</th>\n",
              "      <th>Language</th>\n",
              "    </tr>\n",
              "  </thead>\n",
              "  <tbody>\n",
              "    <tr>\n",
              "      <th>561</th>\n",
              "      <td>The Irishman</td>\n",
              "      <td>Crime drama</td>\n",
              "      <td>2019-11-27</td>\n",
              "      <td>209</td>\n",
              "      <td>7.8</td>\n",
              "      <td>English</td>\n",
              "    </tr>\n",
              "    <tr>\n",
              "      <th>328</th>\n",
              "      <td>Da 5 Bloods</td>\n",
              "      <td>War drama</td>\n",
              "      <td>2020-06-12</td>\n",
              "      <td>155</td>\n",
              "      <td>6.5</td>\n",
              "      <td>English</td>\n",
              "    </tr>\n",
              "    <tr>\n",
              "      <th>581</th>\n",
              "      <td>Springsteen on Broadway</td>\n",
              "      <td>One-man show</td>\n",
              "      <td>2018-12-16</td>\n",
              "      <td>153</td>\n",
              "      <td>8.5</td>\n",
              "      <td>English</td>\n",
              "    </tr>\n",
              "    <tr>\n",
              "      <th>247</th>\n",
              "      <td>Citation</td>\n",
              "      <td>Drama</td>\n",
              "      <td>2020-11-06</td>\n",
              "      <td>151</td>\n",
              "      <td>6.2</td>\n",
              "      <td>English</td>\n",
              "    </tr>\n",
              "    <tr>\n",
              "      <th>284</th>\n",
              "      <td>The Forest of Love</td>\n",
              "      <td>Drama</td>\n",
              "      <td>2019-10-11</td>\n",
              "      <td>151</td>\n",
              "      <td>6.3</td>\n",
              "      <td>Japanese</td>\n",
              "    </tr>\n",
              "    <tr>\n",
              "      <th>509</th>\n",
              "      <td>Raat Akeli Hai</td>\n",
              "      <td>Thriller</td>\n",
              "      <td>2020-07-31</td>\n",
              "      <td>149</td>\n",
              "      <td>7.3</td>\n",
              "      <td>Hindi</td>\n",
              "    </tr>\n",
              "    <tr>\n",
              "      <th>7</th>\n",
              "      <td>The Last Days of American Crime</td>\n",
              "      <td>Heist film/Thriller</td>\n",
              "      <td>2020-06-05</td>\n",
              "      <td>149</td>\n",
              "      <td>3.7</td>\n",
              "      <td>English</td>\n",
              "    </tr>\n",
              "    <tr>\n",
              "      <th>543</th>\n",
              "      <td>Ludo</td>\n",
              "      <td>Anthology/Dark comedy</td>\n",
              "      <td>2020-11-12</td>\n",
              "      <td>149</td>\n",
              "      <td>7.6</td>\n",
              "      <td>Hindi</td>\n",
              "    </tr>\n",
              "    <tr>\n",
              "      <th>194</th>\n",
              "      <td>Army of the Dead</td>\n",
              "      <td>Zombie/Heist</td>\n",
              "      <td>2021-05-21</td>\n",
              "      <td>148</td>\n",
              "      <td>5.9</td>\n",
              "      <td>English</td>\n",
              "    </tr>\n",
              "    <tr>\n",
              "      <th>5</th>\n",
              "      <td>Drive</td>\n",
              "      <td>Action</td>\n",
              "      <td>2019-11-01</td>\n",
              "      <td>147</td>\n",
              "      <td>3.5</td>\n",
              "      <td>Hindi</td>\n",
              "    </tr>\n",
              "  </tbody>\n",
              "</table>\n",
              "</div>\n",
              "      <button class=\"colab-df-convert\" onclick=\"convertToInteractive('df-908bd45b-e14a-472c-bf51-a459f6766693')\"\n",
              "              title=\"Convert this dataframe to an interactive table.\"\n",
              "              style=\"display:none;\">\n",
              "        \n",
              "  <svg xmlns=\"http://www.w3.org/2000/svg\" height=\"24px\"viewBox=\"0 0 24 24\"\n",
              "       width=\"24px\">\n",
              "    <path d=\"M0 0h24v24H0V0z\" fill=\"none\"/>\n",
              "    <path d=\"M18.56 5.44l.94 2.06.94-2.06 2.06-.94-2.06-.94-.94-2.06-.94 2.06-2.06.94zm-11 1L8.5 8.5l.94-2.06 2.06-.94-2.06-.94L8.5 2.5l-.94 2.06-2.06.94zm10 10l.94 2.06.94-2.06 2.06-.94-2.06-.94-.94-2.06-.94 2.06-2.06.94z\"/><path d=\"M17.41 7.96l-1.37-1.37c-.4-.4-.92-.59-1.43-.59-.52 0-1.04.2-1.43.59L10.3 9.45l-7.72 7.72c-.78.78-.78 2.05 0 2.83L4 21.41c.39.39.9.59 1.41.59.51 0 1.02-.2 1.41-.59l7.78-7.78 2.81-2.81c.8-.78.8-2.07 0-2.86zM5.41 20L4 18.59l7.72-7.72 1.47 1.35L5.41 20z\"/>\n",
              "  </svg>\n",
              "      </button>\n",
              "      \n",
              "  <style>\n",
              "    .colab-df-container {\n",
              "      display:flex;\n",
              "      flex-wrap:wrap;\n",
              "      gap: 12px;\n",
              "    }\n",
              "\n",
              "    .colab-df-convert {\n",
              "      background-color: #E8F0FE;\n",
              "      border: none;\n",
              "      border-radius: 50%;\n",
              "      cursor: pointer;\n",
              "      display: none;\n",
              "      fill: #1967D2;\n",
              "      height: 32px;\n",
              "      padding: 0 0 0 0;\n",
              "      width: 32px;\n",
              "    }\n",
              "\n",
              "    .colab-df-convert:hover {\n",
              "      background-color: #E2EBFA;\n",
              "      box-shadow: 0px 1px 2px rgba(60, 64, 67, 0.3), 0px 1px 3px 1px rgba(60, 64, 67, 0.15);\n",
              "      fill: #174EA6;\n",
              "    }\n",
              "\n",
              "    [theme=dark] .colab-df-convert {\n",
              "      background-color: #3B4455;\n",
              "      fill: #D2E3FC;\n",
              "    }\n",
              "\n",
              "    [theme=dark] .colab-df-convert:hover {\n",
              "      background-color: #434B5C;\n",
              "      box-shadow: 0px 1px 3px 1px rgba(0, 0, 0, 0.15);\n",
              "      filter: drop-shadow(0px 1px 2px rgba(0, 0, 0, 0.3));\n",
              "      fill: #FFFFFF;\n",
              "    }\n",
              "  </style>\n",
              "\n",
              "      <script>\n",
              "        const buttonEl =\n",
              "          document.querySelector('#df-908bd45b-e14a-472c-bf51-a459f6766693 button.colab-df-convert');\n",
              "        buttonEl.style.display =\n",
              "          google.colab.kernel.accessAllowed ? 'block' : 'none';\n",
              "\n",
              "        async function convertToInteractive(key) {\n",
              "          const element = document.querySelector('#df-908bd45b-e14a-472c-bf51-a459f6766693');\n",
              "          const dataTable =\n",
              "            await google.colab.kernel.invokeFunction('convertToInteractive',\n",
              "                                                     [key], {});\n",
              "          if (!dataTable) return;\n",
              "\n",
              "          const docLinkHtml = 'Like what you see? Visit the ' +\n",
              "            '<a target=\"_blank\" href=https://colab.research.google.com/notebooks/data_table.ipynb>data table notebook</a>'\n",
              "            + ' to learn more about interactive tables.';\n",
              "          element.innerHTML = '';\n",
              "          dataTable['output_type'] = 'display_data';\n",
              "          await google.colab.output.renderOutput(dataTable, element);\n",
              "          const docLink = document.createElement('div');\n",
              "          docLink.innerHTML = docLinkHtml;\n",
              "          element.appendChild(docLink);\n",
              "        }\n",
              "      </script>\n",
              "    </div>\n",
              "  </div>\n",
              "  "
            ]
          },
          "metadata": {},
          "execution_count": 30
        }
      ]
    },
    {
      "cell_type": "markdown",
      "source": [
        "## **Task #11**\n",
        "\n",
        "Hangi yılda en fazla film yayımlanmıştır? Görselleştiriniz."
      ],
      "metadata": {
        "id": "IzgwI1c4xriz"
      }
    },
    {
      "cell_type": "code",
      "source": [
        "df[\"Year\"] = pd.DatetimeIndex(df[\"Premiere\"]).year\n",
        "df.head()"
      ],
      "metadata": {
        "id": "lbb8x8f809go",
        "colab": {
          "base_uri": "https://localhost:8080/",
          "height": 206
        },
        "outputId": "8c3d8055-6d4b-42f2-e7b8-e3af2cdcbb6c"
      },
      "execution_count": 31,
      "outputs": [
        {
          "output_type": "execute_result",
          "data": {
            "text/plain": [
              "             Title                  Genre   Premiere  Runtime  IMDB Score  \\\n",
              "0  Enter the Anime            Documentary 2019-08-05       58         2.5   \n",
              "1      Dark Forces               Thriller 2020-08-21       81         2.6   \n",
              "2          The App  Science fiction/Drama 2019-12-26       79         2.6   \n",
              "3   The Open House        Horror thriller 2018-01-19       94         3.2   \n",
              "4      Kaali Khuhi                Mystery 2020-10-30       90         3.4   \n",
              "\n",
              "           Language  Year  \n",
              "0  English/Japanese  2019  \n",
              "1           Spanish  2020  \n",
              "2           Italian  2019  \n",
              "3           English  2018  \n",
              "4             Hindi  2020  "
            ],
            "text/html": [
              "\n",
              "  <div id=\"df-5203ec68-08c6-41aa-ba81-02b4fdcf5646\">\n",
              "    <div class=\"colab-df-container\">\n",
              "      <div>\n",
              "<style scoped>\n",
              "    .dataframe tbody tr th:only-of-type {\n",
              "        vertical-align: middle;\n",
              "    }\n",
              "\n",
              "    .dataframe tbody tr th {\n",
              "        vertical-align: top;\n",
              "    }\n",
              "\n",
              "    .dataframe thead th {\n",
              "        text-align: right;\n",
              "    }\n",
              "</style>\n",
              "<table border=\"1\" class=\"dataframe\">\n",
              "  <thead>\n",
              "    <tr style=\"text-align: right;\">\n",
              "      <th></th>\n",
              "      <th>Title</th>\n",
              "      <th>Genre</th>\n",
              "      <th>Premiere</th>\n",
              "      <th>Runtime</th>\n",
              "      <th>IMDB Score</th>\n",
              "      <th>Language</th>\n",
              "      <th>Year</th>\n",
              "    </tr>\n",
              "  </thead>\n",
              "  <tbody>\n",
              "    <tr>\n",
              "      <th>0</th>\n",
              "      <td>Enter the Anime</td>\n",
              "      <td>Documentary</td>\n",
              "      <td>2019-08-05</td>\n",
              "      <td>58</td>\n",
              "      <td>2.5</td>\n",
              "      <td>English/Japanese</td>\n",
              "      <td>2019</td>\n",
              "    </tr>\n",
              "    <tr>\n",
              "      <th>1</th>\n",
              "      <td>Dark Forces</td>\n",
              "      <td>Thriller</td>\n",
              "      <td>2020-08-21</td>\n",
              "      <td>81</td>\n",
              "      <td>2.6</td>\n",
              "      <td>Spanish</td>\n",
              "      <td>2020</td>\n",
              "    </tr>\n",
              "    <tr>\n",
              "      <th>2</th>\n",
              "      <td>The App</td>\n",
              "      <td>Science fiction/Drama</td>\n",
              "      <td>2019-12-26</td>\n",
              "      <td>79</td>\n",
              "      <td>2.6</td>\n",
              "      <td>Italian</td>\n",
              "      <td>2019</td>\n",
              "    </tr>\n",
              "    <tr>\n",
              "      <th>3</th>\n",
              "      <td>The Open House</td>\n",
              "      <td>Horror thriller</td>\n",
              "      <td>2018-01-19</td>\n",
              "      <td>94</td>\n",
              "      <td>3.2</td>\n",
              "      <td>English</td>\n",
              "      <td>2018</td>\n",
              "    </tr>\n",
              "    <tr>\n",
              "      <th>4</th>\n",
              "      <td>Kaali Khuhi</td>\n",
              "      <td>Mystery</td>\n",
              "      <td>2020-10-30</td>\n",
              "      <td>90</td>\n",
              "      <td>3.4</td>\n",
              "      <td>Hindi</td>\n",
              "      <td>2020</td>\n",
              "    </tr>\n",
              "  </tbody>\n",
              "</table>\n",
              "</div>\n",
              "      <button class=\"colab-df-convert\" onclick=\"convertToInteractive('df-5203ec68-08c6-41aa-ba81-02b4fdcf5646')\"\n",
              "              title=\"Convert this dataframe to an interactive table.\"\n",
              "              style=\"display:none;\">\n",
              "        \n",
              "  <svg xmlns=\"http://www.w3.org/2000/svg\" height=\"24px\"viewBox=\"0 0 24 24\"\n",
              "       width=\"24px\">\n",
              "    <path d=\"M0 0h24v24H0V0z\" fill=\"none\"/>\n",
              "    <path d=\"M18.56 5.44l.94 2.06.94-2.06 2.06-.94-2.06-.94-.94-2.06-.94 2.06-2.06.94zm-11 1L8.5 8.5l.94-2.06 2.06-.94-2.06-.94L8.5 2.5l-.94 2.06-2.06.94zm10 10l.94 2.06.94-2.06 2.06-.94-2.06-.94-.94-2.06-.94 2.06-2.06.94z\"/><path d=\"M17.41 7.96l-1.37-1.37c-.4-.4-.92-.59-1.43-.59-.52 0-1.04.2-1.43.59L10.3 9.45l-7.72 7.72c-.78.78-.78 2.05 0 2.83L4 21.41c.39.39.9.59 1.41.59.51 0 1.02-.2 1.41-.59l7.78-7.78 2.81-2.81c.8-.78.8-2.07 0-2.86zM5.41 20L4 18.59l7.72-7.72 1.47 1.35L5.41 20z\"/>\n",
              "  </svg>\n",
              "      </button>\n",
              "      \n",
              "  <style>\n",
              "    .colab-df-container {\n",
              "      display:flex;\n",
              "      flex-wrap:wrap;\n",
              "      gap: 12px;\n",
              "    }\n",
              "\n",
              "    .colab-df-convert {\n",
              "      background-color: #E8F0FE;\n",
              "      border: none;\n",
              "      border-radius: 50%;\n",
              "      cursor: pointer;\n",
              "      display: none;\n",
              "      fill: #1967D2;\n",
              "      height: 32px;\n",
              "      padding: 0 0 0 0;\n",
              "      width: 32px;\n",
              "    }\n",
              "\n",
              "    .colab-df-convert:hover {\n",
              "      background-color: #E2EBFA;\n",
              "      box-shadow: 0px 1px 2px rgba(60, 64, 67, 0.3), 0px 1px 3px 1px rgba(60, 64, 67, 0.15);\n",
              "      fill: #174EA6;\n",
              "    }\n",
              "\n",
              "    [theme=dark] .colab-df-convert {\n",
              "      background-color: #3B4455;\n",
              "      fill: #D2E3FC;\n",
              "    }\n",
              "\n",
              "    [theme=dark] .colab-df-convert:hover {\n",
              "      background-color: #434B5C;\n",
              "      box-shadow: 0px 1px 3px 1px rgba(0, 0, 0, 0.15);\n",
              "      filter: drop-shadow(0px 1px 2px rgba(0, 0, 0, 0.3));\n",
              "      fill: #FFFFFF;\n",
              "    }\n",
              "  </style>\n",
              "\n",
              "      <script>\n",
              "        const buttonEl =\n",
              "          document.querySelector('#df-5203ec68-08c6-41aa-ba81-02b4fdcf5646 button.colab-df-convert');\n",
              "        buttonEl.style.display =\n",
              "          google.colab.kernel.accessAllowed ? 'block' : 'none';\n",
              "\n",
              "        async function convertToInteractive(key) {\n",
              "          const element = document.querySelector('#df-5203ec68-08c6-41aa-ba81-02b4fdcf5646');\n",
              "          const dataTable =\n",
              "            await google.colab.kernel.invokeFunction('convertToInteractive',\n",
              "                                                     [key], {});\n",
              "          if (!dataTable) return;\n",
              "\n",
              "          const docLinkHtml = 'Like what you see? Visit the ' +\n",
              "            '<a target=\"_blank\" href=https://colab.research.google.com/notebooks/data_table.ipynb>data table notebook</a>'\n",
              "            + ' to learn more about interactive tables.';\n",
              "          element.innerHTML = '';\n",
              "          dataTable['output_type'] = 'display_data';\n",
              "          await google.colab.output.renderOutput(dataTable, element);\n",
              "          const docLink = document.createElement('div');\n",
              "          docLink.innerHTML = docLinkHtml;\n",
              "          element.appendChild(docLink);\n",
              "        }\n",
              "      </script>\n",
              "    </div>\n",
              "  </div>\n",
              "  "
            ]
          },
          "metadata": {},
          "execution_count": 31
        }
      ]
    },
    {
      "cell_type": "code",
      "source": [
        "df.Premiere.max() # yayına en son giren filmin yayın tarihi"
      ],
      "metadata": {
        "colab": {
          "base_uri": "https://localhost:8080/"
        },
        "id": "cM-v3TK0Ti7B",
        "outputId": "3645c596-533c-4461-a1ac-1ad567b49c3b"
      },
      "execution_count": 32,
      "outputs": [
        {
          "output_type": "execute_result",
          "data": {
            "text/plain": [
              "Timestamp('2021-05-27 00:00:00')"
            ]
          },
          "metadata": {},
          "execution_count": 32
        }
      ]
    },
    {
      "cell_type": "code",
      "source": [
        "ax = sns.countplot(data=df, x = \"Year\", color = \"green\")\n",
        "for p in ax.patches:\n",
        "   ax.annotate('{:.0f}'.format(p.get_height()), (p.get_x()+0.3, p.get_height()+1))\n",
        "ax.set(ylabel=\"Number of Movies\")"
      ],
      "metadata": {
        "colab": {
          "base_uri": "https://localhost:8080/",
          "height": 575
        },
        "id": "miUIZp2uTnuf",
        "outputId": "da53e98d-d3f8-4f35-ab34-f263e48ce326"
      },
      "execution_count": 33,
      "outputs": [
        {
          "output_type": "execute_result",
          "data": {
            "text/plain": [
              "[Text(0, 0.5, 'Number of Movies')]"
            ]
          },
          "metadata": {},
          "execution_count": 33
        },
        {
          "output_type": "display_data",
          "data": {
            "text/plain": [
              "<Figure size 936x648 with 1 Axes>"
            ],
            "image/png": "[encoded data removed]"
          },
          "metadata": {}
        }
      ]
    },
    {
      "cell_type": "markdown",
      "source": [
        "## **Task #12**\n",
        "\n",
        "Hangi dilde yayınlanan filmler en düşük ortalama IMBD puanına sahiptir? Görselleştiriniz."
      ],
      "metadata": {
        "id": "laRvOASSxrSt"
      }
    },
    {
      "cell_type": "code",
      "source": [
        "df12 = dat.sort_values(by=\"IMDB Score\", ascending = False).tail(10)\n",
        "df9Chart = sns.countplot(data=df12, x = \"Language\", color = \"blue\")"
      ],
      "metadata": {
        "id": "XWVQ5LVh1DUA",
        "colab": {
          "base_uri": "https://localhost:8080/",
          "height": 557
        },
        "outputId": "ffb064ba-4f08-4561-e5d8-c8bf69584c09"
      },
      "execution_count": 34,
      "outputs": [
        {
          "output_type": "display_data",
          "data": {
            "text/plain": [
              "<Figure size 936x648 with 1 Axes>"
            ],
            "image/png": "[encoded data removed]"
          },
          "metadata": {}
        }
      ]
    },
    {
      "cell_type": "markdown",
      "source": [
        "## **Task #13**\n",
        "\n",
        "Hangi yılın toplam \"runtime\" süresi en fazladır?"
      ],
      "metadata": {
        "id": "kELIJkYu1GKs"
      }
    },
    {
      "cell_type": "code",
      "source": [
        "df13 = df.groupby(\"Year\").sum()\n",
        "df13"
      ],
      "metadata": {
        "id": "726vEi1_1Ll8",
        "colab": {
          "base_uri": "https://localhost:8080/",
          "height": 332
        },
        "outputId": "1d7525d1-7ede-41f2-f192-6b87bed0f23d"
      },
      "execution_count": 35,
      "outputs": [
        {
          "output_type": "execute_result",
          "data": {
            "text/plain": [
              "      Runtime  IMDB Score\n",
              "Year                     \n",
              "2014       81         6.4\n",
              "2015      814        61.9\n",
              "2016     2766       195.4\n",
              "2017     6129       423.9\n",
              "2018     9405       629.7\n",
              "2019    10856       782.4\n",
              "2020    17384      1133.7\n",
              "2021     7214       429.3"
            ],
            "text/html": [
              "\n",
              "  <div id=\"df-ec521730-0c69-4f21-b5d6-25c84a2cba94\">\n",
              "    <div class=\"colab-df-container\">\n",
              "      <div>\n",
              "<style scoped>\n",
              "    .dataframe tbody tr th:only-of-type {\n",
              "        vertical-align: middle;\n",
              "    }\n",
              "\n",
              "    .dataframe tbody tr th {\n",
              "        vertical-align: top;\n",
              "    }\n",
              "\n",
              "    .dataframe thead th {\n",
              "        text-align: right;\n",
              "    }\n",
              "</style>\n",
              "<table border=\"1\" class=\"dataframe\">\n",
              "  <thead>\n",
              "    <tr style=\"text-align: right;\">\n",
              "      <th></th>\n",
              "      <th>Runtime</th>\n",
              "      <th>IMDB Score</th>\n",
              "    </tr>\n",
              "    <tr>\n",
              "      <th>Year</th>\n",
              "      <th></th>\n",
              "      <th></th>\n",
              "    </tr>\n",
              "  </thead>\n",
              "  <tbody>\n",
              "    <tr>\n",
              "      <th>2014</th>\n",
              "      <td>81</td>\n",
              "      <td>6.4</td>\n",
              "    </tr>\n",
              "    <tr>\n",
              "      <th>2015</th>\n",
              "      <td>814</td>\n",
              "      <td>61.9</td>\n",
              "    </tr>\n",
              "    <tr>\n",
              "      <th>2016</th>\n",
              "      <td>2766</td>\n",
              "      <td>195.4</td>\n",
              "    </tr>\n",
              "    <tr>\n",
              "      <th>2017</th>\n",
              "      <td>6129</td>\n",
              "      <td>423.9</td>\n",
              "    </tr>\n",
              "    <tr>\n",
              "      <th>2018</th>\n",
              "      <td>9405</td>\n",
              "      <td>629.7</td>\n",
              "    </tr>\n",
              "    <tr>\n",
              "      <th>2019</th>\n",
              "      <td>10856</td>\n",
              "      <td>782.4</td>\n",
              "    </tr>\n",
              "    <tr>\n",
              "      <th>2020</th>\n",
              "      <td>17384</td>\n",
              "      <td>1133.7</td>\n",
              "    </tr>\n",
              "    <tr>\n",
              "      <th>2021</th>\n",
              "      <td>7214</td>\n",
              "      <td>429.3</td>\n",
              "    </tr>\n",
              "  </tbody>\n",
              "</table>\n",
              "</div>\n",
              "      <button class=\"colab-df-convert\" onclick=\"convertToInteractive('df-ec521730-0c69-4f21-b5d6-25c84a2cba94')\"\n",
              "              title=\"Convert this dataframe to an interactive table.\"\n",
              "              style=\"display:none;\">\n",
              "        \n",
              "  <svg xmlns=\"http://www.w3.org/2000/svg\" height=\"24px\"viewBox=\"0 0 24 24\"\n",
              "       width=\"24px\">\n",
              "    <path d=\"M0 0h24v24H0V0z\" fill=\"none\"/>\n",
              "    <path d=\"M18.56 5.44l.94 2.06.94-2.06 2.06-.94-2.06-.94-.94-2.06-.94 2.06-2.06.94zm-11 1L8.5 8.5l.94-2.06 2.06-.94-2.06-.94L8.5 2.5l-.94 2.06-2.06.94zm10 10l.94 2.06.94-2.06 2.06-.94-2.06-.94-.94-2.06-.94 2.06-2.06.94z\"/><path d=\"M17.41 7.96l-1.37-1.37c-.4-.4-.92-.59-1.43-.59-.52 0-1.04.2-1.43.59L10.3 9.45l-7.72 7.72c-.78.78-.78 2.05 0 2.83L4 21.41c.39.39.9.59 1.41.59.51 0 1.02-.2 1.41-.59l7.78-7.78 2.81-2.81c.8-.78.8-2.07 0-2.86zM5.41 20L4 18.59l7.72-7.72 1.47 1.35L5.41 20z\"/>\n",
              "  </svg>\n",
              "      </button>\n",
              "      \n",
              "  <style>\n",
              "    .colab-df-container {\n",
              "      display:flex;\n",
              "      flex-wrap:wrap;\n",
              "      gap: 12px;\n",
              "    }\n",
              "\n",
              "    .colab-df-convert {\n",
              "      background-color: #E8F0FE;\n",
              "      border: none;\n",
              "      border-radius: 50%;\n",
              "      cursor: pointer;\n",
              "      display: none;\n",
              "      fill: #1967D2;\n",
              "      height: 32px;\n",
              "      padding: 0 0 0 0;\n",
              "      width: 32px;\n",
              "    }\n",
              "\n",
              "    .colab-df-convert:hover {\n",
              "      background-color: #E2EBFA;\n",
              "      box-shadow: 0px 1px 2px rgba(60, 64, 67, 0.3), 0px 1px 3px 1px rgba(60, 64, 67, 0.15);\n",
              "      fill: #174EA6;\n",
              "    }\n",
              "\n",
              "    [theme=dark] .colab-df-convert {\n",
              "      background-color: #3B4455;\n",
              "      fill: #D2E3FC;\n",
              "    }\n",
              "\n",
              "    [theme=dark] .colab-df-convert:hover {\n",
              "      background-color: #434B5C;\n",
              "      box-shadow: 0px 1px 3px 1px rgba(0, 0, 0, 0.15);\n",
              "      filter: drop-shadow(0px 1px 2px rgba(0, 0, 0, 0.3));\n",
              "      fill: #FFFFFF;\n",
              "    }\n",
              "  </style>\n",
              "\n",
              "      <script>\n",
              "        const buttonEl =\n",
              "          document.querySelector('#df-ec521730-0c69-4f21-b5d6-25c84a2cba94 button.colab-df-convert');\n",
              "        buttonEl.style.display =\n",
              "          google.colab.kernel.accessAllowed ? 'block' : 'none';\n",
              "\n",
              "        async function convertToInteractive(key) {\n",
              "          const element = document.querySelector('#df-ec521730-0c69-4f21-b5d6-25c84a2cba94');\n",
              "          const dataTable =\n",
              "            await google.colab.kernel.invokeFunction('convertToInteractive',\n",
              "                                                     [key], {});\n",
              "          if (!dataTable) return;\n",
              "\n",
              "          const docLinkHtml = 'Like what you see? Visit the ' +\n",
              "            '<a target=\"_blank\" href=https://colab.research.google.com/notebooks/data_table.ipynb>data table notebook</a>'\n",
              "            + ' to learn more about interactive tables.';\n",
              "          element.innerHTML = '';\n",
              "          dataTable['output_type'] = 'display_data';\n",
              "          await google.colab.output.renderOutput(dataTable, element);\n",
              "          const docLink = document.createElement('div');\n",
              "          docLink.innerHTML = docLinkHtml;\n",
              "          element.appendChild(docLink);\n",
              "        }\n",
              "      </script>\n",
              "    </div>\n",
              "  </div>\n",
              "  "
            ]
          },
          "metadata": {},
          "execution_count": 35
        }
      ]
    },
    {
      "cell_type": "code",
      "source": [
        "print(f\"{df13.Runtime.idxmax()} has the highest runtime with a total of {df13.Runtime.max()} minutes.\")"
      ],
      "metadata": {
        "colab": {
          "base_uri": "https://localhost:8080/"
        },
        "id": "FkG_g_50YgBj",
        "outputId": "88bb16c0-5cf5-4f04-82dc-80abc12488da"
      },
      "execution_count": 36,
      "outputs": [
        {
          "output_type": "stream",
          "name": "stdout",
          "text": [
            "2020 has the highest runtime with a total of 17384 minutes.\n"
          ]
        }
      ]
    },
    {
      "cell_type": "markdown",
      "source": [
        "## **Task #14**\n",
        "\n",
        "Her bir dilin en fazla kullanıldığı \"Genre\" nedir?"
      ],
      "metadata": {
        "id": "oQkisi6u1FzE"
      }
    },
    {
      "cell_type": "code",
      "source": [
        "df14=df[\"Genre\"]\n",
        "df_14=df14.value_counts()\n",
        "df_14[:1]"
      ],
      "metadata": {
        "id": "E-6_mO1N1REU",
        "colab": {
          "base_uri": "https://localhost:8080/"
        },
        "outputId": "7d596be1-6fd3-4866-f0cb-6ccd2cbc7ae3"
      },
      "execution_count": 37,
      "outputs": [
        {
          "output_type": "execute_result",
          "data": {
            "text/plain": [
              "Documentary    159\n",
              "Name: Genre, dtype: int64"
            ]
          },
          "metadata": {},
          "execution_count": 37
        }
      ]
    },
    {
      "cell_type": "markdown",
      "source": [
        "## **Task #15**\n",
        "\n",
        "Veri setinde outlier veri var mıdır? Açıklayınız."
      ],
      "metadata": {
        "id": "mW5kds4S1Rik"
      }
    },
    {
      "cell_type": "markdown",
      "source": [
        "Runtime and IMDb score are numeric variables in this data set. So let's check them:"
      ],
      "metadata": {
        "id": "dElZoM9aG80X"
      }
    },
    {
      "cell_type": "code",
      "source": [
        "sns.set(rc={'figure.figsize':(7,5)})"
      ],
      "metadata": {
        "id": "C486LAsZIXaT"
      },
      "execution_count": 52,
      "outputs": []
    },
    {
      "cell_type": "code",
      "source": [
        "ax = sns.boxplot(y=\"IMDB Score\", data=df)"
      ],
      "metadata": {
        "id": "-UkWVWu6kAah",
        "colab": {
          "base_uri": "https://localhost:8080/",
          "height": 303
        },
        "outputId": "46074930-f33d-48f4-ed04-1ed9a8e8bede"
      },
      "execution_count": 53,
      "outputs": [
        {
          "output_type": "display_data",
          "data": {
            "text/plain": [
              "<Figure size 504x360 with 1 Axes>"
            ],
            "image/png": "[encoded data removed]"
          },
          "metadata": {}
        }
      ]
    },
    {
      "cell_type": "code",
      "source": [
        "ax = sns.boxplot(y=\"Runtime\", data=df)"
      ],
      "metadata": {
        "colab": {
          "base_uri": "https://localhost:8080/",
          "height": 303
        },
        "id": "CYjtJSvPGPhw",
        "outputId": "d429ba9e-4439-4552-e150-9871c193a964"
      },
      "execution_count": 54,
      "outputs": [
        {
          "output_type": "display_data",
          "data": {
            "text/plain": [
              "<Figure size 504x360 with 1 Axes>"
            ],
            "image/png": "[encoded data removed]"
          },
          "metadata": {}
        }
      ]
    },
    {
      "cell_type": "markdown",
      "source": [
        "Apparently, both columns have some outliers. For IMDB Score, ratings slightly below 4 and equal to 9 are outliers. In Runtime column, we have much more outliers, many of them comes from short movies, and movies last nearly 2.5 hours."
      ],
      "metadata": {
        "id": "8okoX1ZnIzhQ"
      }
    },
    {
      "cell_type": "code",
      "source": [
        ""
      ],
      "metadata": {
        "id": "Y-qjYSidJxog"
      },
      "execution_count": null,
      "outputs": []
    }
  ]
}
